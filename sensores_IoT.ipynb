{
 "cells": [
  {
   "cell_type": "markdown",
   "id": "2de7252d",
   "metadata": {},
   "source": [
    "## Projeto de Machine Learning - Prevendo Manutenção de Máquinas Industriais"
   ]
  },
  {
   "cell_type": "code",
   "execution_count": 1,
   "id": "70ba9cd7",
   "metadata": {},
   "outputs": [],
   "source": [
    "!pip install -q xgboost"
   ]
  },
  {
   "cell_type": "code",
   "execution_count": 2,
   "id": "253c0efa",
   "metadata": {},
   "outputs": [],
   "source": [
    "# Imports\n",
    "\n",
    "import pickle\n",
    "import sklearn as sk\n",
    "import pandas as pd\n",
    "import numpy as np\n",
    "import seaborn as sns\n",
    "import matplotlib.pyplot as plt\n",
    "import xgboost as xgb\n",
    "from xgboost import XGBClassifier\n",
    "from sklearn.linear_model import LogisticRegression\n",
    "from sklearn.naive_bayes import GaussianNB\n",
    "from sklearn.preprocessing import StandardScaler\n",
    "from sklearn.model_selection import cross_val_score\n",
    "from sklearn.metrics import roc_auc_score, accuracy_score, precision_score, recall_score, roc_curve\n",
    "import warnings\n",
    "warnings.filterwarnings('ignore')\n",
    "%matplotlib inline"
   ]
  },
  {
   "cell_type": "code",
   "execution_count": 3,
   "id": "9f0beb11",
   "metadata": {},
   "outputs": [
    {
     "name": "stdout",
     "output_type": "stream",
     "text": [
      "Author: Marcelo Medeiros | Cientista de Dados\n",
      "\n"
     ]
    }
   ],
   "source": [
    "%reload_ext watermark\n",
    "%watermark -a \"Marcelo Medeiros | Cientista de Dados\""
   ]
  },
  {
   "cell_type": "markdown",
   "id": "9107077d",
   "metadata": {},
   "source": [
    "#### Problema de Negócio"
   ]
  },
  {
   "cell_type": "markdown",
   "id": "753839e3",
   "metadata": {},
   "source": [
    "Objetivo: Prever se uma máquina industrial precisará ou não de manutenção através de 178 leituras de sensores IoT\n",
    "(Internet of Things)."
   ]
  },
  {
   "cell_type": "code",
   "execution_count": 4,
   "id": "eaa735c6",
   "metadata": {},
   "outputs": [],
   "source": [
    "# Carregando os dados\n",
    "df = pd.read_csv(\"dataset.csv\")"
   ]
  },
  {
   "cell_type": "code",
   "execution_count": 5,
   "id": "cd5261eb",
   "metadata": {},
   "outputs": [
    {
     "data": {
      "text/html": [
       "<div>\n",
       "<style scoped>\n",
       "    .dataframe tbody tr th:only-of-type {\n",
       "        vertical-align: middle;\n",
       "    }\n",
       "\n",
       "    .dataframe tbody tr th {\n",
       "        vertical-align: top;\n",
       "    }\n",
       "\n",
       "    .dataframe thead th {\n",
       "        text-align: right;\n",
       "    }\n",
       "</style>\n",
       "<table border=\"1\" class=\"dataframe\">\n",
       "  <thead>\n",
       "    <tr style=\"text-align: right;\">\n",
       "      <th></th>\n",
       "      <th>X1</th>\n",
       "      <th>X2</th>\n",
       "      <th>X3</th>\n",
       "      <th>X4</th>\n",
       "      <th>X5</th>\n",
       "      <th>X6</th>\n",
       "      <th>X7</th>\n",
       "      <th>X8</th>\n",
       "      <th>X9</th>\n",
       "      <th>X10</th>\n",
       "      <th>...</th>\n",
       "      <th>X170</th>\n",
       "      <th>X171</th>\n",
       "      <th>X172</th>\n",
       "      <th>X173</th>\n",
       "      <th>X174</th>\n",
       "      <th>X175</th>\n",
       "      <th>X176</th>\n",
       "      <th>X177</th>\n",
       "      <th>X178</th>\n",
       "      <th>VARIAVEL_ALVO</th>\n",
       "    </tr>\n",
       "  </thead>\n",
       "  <tbody>\n",
       "    <tr>\n",
       "      <th>0</th>\n",
       "      <td>135</td>\n",
       "      <td>190</td>\n",
       "      <td>229</td>\n",
       "      <td>223</td>\n",
       "      <td>192</td>\n",
       "      <td>125</td>\n",
       "      <td>55</td>\n",
       "      <td>-9</td>\n",
       "      <td>-33</td>\n",
       "      <td>-38</td>\n",
       "      <td>...</td>\n",
       "      <td>-17</td>\n",
       "      <td>-15</td>\n",
       "      <td>-31</td>\n",
       "      <td>-77</td>\n",
       "      <td>-103</td>\n",
       "      <td>-127</td>\n",
       "      <td>-116</td>\n",
       "      <td>-83</td>\n",
       "      <td>-51</td>\n",
       "      <td>0</td>\n",
       "    </tr>\n",
       "    <tr>\n",
       "      <th>1</th>\n",
       "      <td>386</td>\n",
       "      <td>382</td>\n",
       "      <td>356</td>\n",
       "      <td>331</td>\n",
       "      <td>320</td>\n",
       "      <td>315</td>\n",
       "      <td>307</td>\n",
       "      <td>272</td>\n",
       "      <td>244</td>\n",
       "      <td>232</td>\n",
       "      <td>...</td>\n",
       "      <td>164</td>\n",
       "      <td>150</td>\n",
       "      <td>146</td>\n",
       "      <td>152</td>\n",
       "      <td>157</td>\n",
       "      <td>156</td>\n",
       "      <td>154</td>\n",
       "      <td>143</td>\n",
       "      <td>129</td>\n",
       "      <td>1</td>\n",
       "    </tr>\n",
       "    <tr>\n",
       "      <th>2</th>\n",
       "      <td>-32</td>\n",
       "      <td>-39</td>\n",
       "      <td>-47</td>\n",
       "      <td>-37</td>\n",
       "      <td>-32</td>\n",
       "      <td>-36</td>\n",
       "      <td>-57</td>\n",
       "      <td>-73</td>\n",
       "      <td>-85</td>\n",
       "      <td>-94</td>\n",
       "      <td>...</td>\n",
       "      <td>57</td>\n",
       "      <td>64</td>\n",
       "      <td>48</td>\n",
       "      <td>19</td>\n",
       "      <td>-12</td>\n",
       "      <td>-30</td>\n",
       "      <td>-35</td>\n",
       "      <td>-35</td>\n",
       "      <td>-36</td>\n",
       "      <td>0</td>\n",
       "    </tr>\n",
       "    <tr>\n",
       "      <th>3</th>\n",
       "      <td>-105</td>\n",
       "      <td>-101</td>\n",
       "      <td>-96</td>\n",
       "      <td>-92</td>\n",
       "      <td>-89</td>\n",
       "      <td>-95</td>\n",
       "      <td>-102</td>\n",
       "      <td>-100</td>\n",
       "      <td>-87</td>\n",
       "      <td>-79</td>\n",
       "      <td>...</td>\n",
       "      <td>-82</td>\n",
       "      <td>-81</td>\n",
       "      <td>-80</td>\n",
       "      <td>-77</td>\n",
       "      <td>-85</td>\n",
       "      <td>-77</td>\n",
       "      <td>-72</td>\n",
       "      <td>-69</td>\n",
       "      <td>-65</td>\n",
       "      <td>0</td>\n",
       "    </tr>\n",
       "    <tr>\n",
       "      <th>4</th>\n",
       "      <td>-9</td>\n",
       "      <td>-65</td>\n",
       "      <td>-98</td>\n",
       "      <td>-102</td>\n",
       "      <td>-78</td>\n",
       "      <td>-48</td>\n",
       "      <td>-16</td>\n",
       "      <td>0</td>\n",
       "      <td>-21</td>\n",
       "      <td>-59</td>\n",
       "      <td>...</td>\n",
       "      <td>4</td>\n",
       "      <td>2</td>\n",
       "      <td>-12</td>\n",
       "      <td>-32</td>\n",
       "      <td>-41</td>\n",
       "      <td>-65</td>\n",
       "      <td>-83</td>\n",
       "      <td>-89</td>\n",
       "      <td>-73</td>\n",
       "      <td>0</td>\n",
       "    </tr>\n",
       "  </tbody>\n",
       "</table>\n",
       "<p>5 rows × 179 columns</p>\n",
       "</div>"
      ],
      "text/plain": [
       "    X1   X2   X3   X4   X5   X6   X7   X8   X9  X10  ...  X170  X171  X172  \\\n",
       "0  135  190  229  223  192  125   55   -9  -33  -38  ...   -17   -15   -31   \n",
       "1  386  382  356  331  320  315  307  272  244  232  ...   164   150   146   \n",
       "2  -32  -39  -47  -37  -32  -36  -57  -73  -85  -94  ...    57    64    48   \n",
       "3 -105 -101  -96  -92  -89  -95 -102 -100  -87  -79  ...   -82   -81   -80   \n",
       "4   -9  -65  -98 -102  -78  -48  -16    0  -21  -59  ...     4     2   -12   \n",
       "\n",
       "   X173  X174  X175  X176  X177  X178  VARIAVEL_ALVO  \n",
       "0   -77  -103  -127  -116   -83   -51              0  \n",
       "1   152   157   156   154   143   129              1  \n",
       "2    19   -12   -30   -35   -35   -36              0  \n",
       "3   -77   -85   -77   -72   -69   -65              0  \n",
       "4   -32   -41   -65   -83   -89   -73              0  \n",
       "\n",
       "[5 rows x 179 columns]"
      ]
     },
     "execution_count": 5,
     "metadata": {},
     "output_type": "execute_result"
    }
   ],
   "source": [
    "df.head()"
   ]
  },
  {
   "cell_type": "code",
   "execution_count": 6,
   "id": "cf126f14",
   "metadata": {},
   "outputs": [
    {
     "data": {
      "text/plain": [
       "(11500, 179)"
      ]
     },
     "execution_count": 6,
     "metadata": {},
     "output_type": "execute_result"
    }
   ],
   "source": [
    "df.shape"
   ]
  },
  {
   "cell_type": "markdown",
   "id": "131a8acb",
   "metadata": {},
   "source": [
    "#### Análise Exploratória e definição da variável Alvo"
   ]
  },
  {
   "cell_type": "code",
   "execution_count": 7,
   "id": "3ce0eb44",
   "metadata": {},
   "outputs": [
    {
     "data": {
      "text/html": [
       "<div>\n",
       "<style scoped>\n",
       "    .dataframe tbody tr th:only-of-type {\n",
       "        vertical-align: middle;\n",
       "    }\n",
       "\n",
       "    .dataframe tbody tr th {\n",
       "        vertical-align: top;\n",
       "    }\n",
       "\n",
       "    .dataframe thead th {\n",
       "        text-align: right;\n",
       "    }\n",
       "</style>\n",
       "<table border=\"1\" class=\"dataframe\">\n",
       "  <thead>\n",
       "    <tr style=\"text-align: right;\">\n",
       "      <th></th>\n",
       "      <th>X1</th>\n",
       "      <th>X2</th>\n",
       "      <th>X3</th>\n",
       "      <th>X4</th>\n",
       "      <th>X5</th>\n",
       "      <th>X6</th>\n",
       "      <th>X7</th>\n",
       "      <th>X8</th>\n",
       "      <th>X9</th>\n",
       "      <th>X10</th>\n",
       "      <th>...</th>\n",
       "      <th>X170</th>\n",
       "      <th>X171</th>\n",
       "      <th>X172</th>\n",
       "      <th>X173</th>\n",
       "      <th>X174</th>\n",
       "      <th>X175</th>\n",
       "      <th>X176</th>\n",
       "      <th>X177</th>\n",
       "      <th>X178</th>\n",
       "      <th>VARIAVEL_ALVO</th>\n",
       "    </tr>\n",
       "  </thead>\n",
       "  <tbody>\n",
       "    <tr>\n",
       "      <th>count</th>\n",
       "      <td>11500.000000</td>\n",
       "      <td>11500.000000</td>\n",
       "      <td>11500.000000</td>\n",
       "      <td>11500.000000</td>\n",
       "      <td>11500.000000</td>\n",
       "      <td>11500.000000</td>\n",
       "      <td>11500.000000</td>\n",
       "      <td>11500.00000</td>\n",
       "      <td>11500.00000</td>\n",
       "      <td>11500.000000</td>\n",
       "      <td>...</td>\n",
       "      <td>11500.000000</td>\n",
       "      <td>11500.000000</td>\n",
       "      <td>11500.000000</td>\n",
       "      <td>11500.000000</td>\n",
       "      <td>11500.000000</td>\n",
       "      <td>11500.000000</td>\n",
       "      <td>11500.000000</td>\n",
       "      <td>11500.000000</td>\n",
       "      <td>11500.000000</td>\n",
       "      <td>11500.000000</td>\n",
       "    </tr>\n",
       "    <tr>\n",
       "      <th>mean</th>\n",
       "      <td>-11.581391</td>\n",
       "      <td>-10.911565</td>\n",
       "      <td>-10.187130</td>\n",
       "      <td>-9.143043</td>\n",
       "      <td>-8.009739</td>\n",
       "      <td>-7.003478</td>\n",
       "      <td>-6.502087</td>\n",
       "      <td>-6.68713</td>\n",
       "      <td>-6.55800</td>\n",
       "      <td>-6.168435</td>\n",
       "      <td>...</td>\n",
       "      <td>-10.145739</td>\n",
       "      <td>-11.630348</td>\n",
       "      <td>-12.943478</td>\n",
       "      <td>-13.668870</td>\n",
       "      <td>-13.363304</td>\n",
       "      <td>-13.045043</td>\n",
       "      <td>-12.705130</td>\n",
       "      <td>-12.426000</td>\n",
       "      <td>-12.195652</td>\n",
       "      <td>0.200000</td>\n",
       "    </tr>\n",
       "    <tr>\n",
       "      <th>std</th>\n",
       "      <td>165.626284</td>\n",
       "      <td>166.059609</td>\n",
       "      <td>163.524317</td>\n",
       "      <td>161.269041</td>\n",
       "      <td>160.998007</td>\n",
       "      <td>161.328725</td>\n",
       "      <td>161.467837</td>\n",
       "      <td>162.11912</td>\n",
       "      <td>162.03336</td>\n",
       "      <td>160.436352</td>\n",
       "      <td>...</td>\n",
       "      <td>164.652883</td>\n",
       "      <td>166.149790</td>\n",
       "      <td>168.554058</td>\n",
       "      <td>168.556486</td>\n",
       "      <td>167.257290</td>\n",
       "      <td>164.241019</td>\n",
       "      <td>162.895832</td>\n",
       "      <td>162.886311</td>\n",
       "      <td>164.852015</td>\n",
       "      <td>0.400017</td>\n",
       "    </tr>\n",
       "    <tr>\n",
       "      <th>min</th>\n",
       "      <td>-1839.000000</td>\n",
       "      <td>-1838.000000</td>\n",
       "      <td>-1835.000000</td>\n",
       "      <td>-1845.000000</td>\n",
       "      <td>-1791.000000</td>\n",
       "      <td>-1757.000000</td>\n",
       "      <td>-1832.000000</td>\n",
       "      <td>-1778.00000</td>\n",
       "      <td>-1840.00000</td>\n",
       "      <td>-1867.000000</td>\n",
       "      <td>...</td>\n",
       "      <td>-1867.000000</td>\n",
       "      <td>-1865.000000</td>\n",
       "      <td>-1642.000000</td>\n",
       "      <td>-1723.000000</td>\n",
       "      <td>-1866.000000</td>\n",
       "      <td>-1863.000000</td>\n",
       "      <td>-1781.000000</td>\n",
       "      <td>-1727.000000</td>\n",
       "      <td>-1829.000000</td>\n",
       "      <td>0.000000</td>\n",
       "    </tr>\n",
       "    <tr>\n",
       "      <th>25%</th>\n",
       "      <td>-54.000000</td>\n",
       "      <td>-55.000000</td>\n",
       "      <td>-54.000000</td>\n",
       "      <td>-54.000000</td>\n",
       "      <td>-54.000000</td>\n",
       "      <td>-54.000000</td>\n",
       "      <td>-54.000000</td>\n",
       "      <td>-55.00000</td>\n",
       "      <td>-55.00000</td>\n",
       "      <td>-54.000000</td>\n",
       "      <td>...</td>\n",
       "      <td>-55.000000</td>\n",
       "      <td>-56.000000</td>\n",
       "      <td>-56.000000</td>\n",
       "      <td>-56.000000</td>\n",
       "      <td>-55.000000</td>\n",
       "      <td>-56.000000</td>\n",
       "      <td>-55.000000</td>\n",
       "      <td>-55.000000</td>\n",
       "      <td>-55.000000</td>\n",
       "      <td>0.000000</td>\n",
       "    </tr>\n",
       "    <tr>\n",
       "      <th>50%</th>\n",
       "      <td>-8.000000</td>\n",
       "      <td>-8.000000</td>\n",
       "      <td>-7.000000</td>\n",
       "      <td>-8.000000</td>\n",
       "      <td>-8.000000</td>\n",
       "      <td>-8.000000</td>\n",
       "      <td>-8.000000</td>\n",
       "      <td>-8.00000</td>\n",
       "      <td>-7.00000</td>\n",
       "      <td>-7.000000</td>\n",
       "      <td>...</td>\n",
       "      <td>-9.000000</td>\n",
       "      <td>-10.000000</td>\n",
       "      <td>-10.000000</td>\n",
       "      <td>-10.000000</td>\n",
       "      <td>-10.000000</td>\n",
       "      <td>-9.000000</td>\n",
       "      <td>-9.000000</td>\n",
       "      <td>-9.000000</td>\n",
       "      <td>-9.000000</td>\n",
       "      <td>0.000000</td>\n",
       "    </tr>\n",
       "    <tr>\n",
       "      <th>75%</th>\n",
       "      <td>34.000000</td>\n",
       "      <td>35.000000</td>\n",
       "      <td>36.000000</td>\n",
       "      <td>36.000000</td>\n",
       "      <td>35.000000</td>\n",
       "      <td>36.000000</td>\n",
       "      <td>35.000000</td>\n",
       "      <td>36.00000</td>\n",
       "      <td>36.00000</td>\n",
       "      <td>35.250000</td>\n",
       "      <td>...</td>\n",
       "      <td>34.000000</td>\n",
       "      <td>34.000000</td>\n",
       "      <td>33.000000</td>\n",
       "      <td>33.000000</td>\n",
       "      <td>34.000000</td>\n",
       "      <td>34.000000</td>\n",
       "      <td>34.000000</td>\n",
       "      <td>34.000000</td>\n",
       "      <td>34.000000</td>\n",
       "      <td>0.000000</td>\n",
       "    </tr>\n",
       "    <tr>\n",
       "      <th>max</th>\n",
       "      <td>1726.000000</td>\n",
       "      <td>1713.000000</td>\n",
       "      <td>1697.000000</td>\n",
       "      <td>1612.000000</td>\n",
       "      <td>1518.000000</td>\n",
       "      <td>1816.000000</td>\n",
       "      <td>2047.000000</td>\n",
       "      <td>2047.00000</td>\n",
       "      <td>2047.00000</td>\n",
       "      <td>2047.000000</td>\n",
       "      <td>...</td>\n",
       "      <td>1777.000000</td>\n",
       "      <td>1472.000000</td>\n",
       "      <td>1319.000000</td>\n",
       "      <td>1436.000000</td>\n",
       "      <td>1733.000000</td>\n",
       "      <td>1958.000000</td>\n",
       "      <td>2047.000000</td>\n",
       "      <td>2047.000000</td>\n",
       "      <td>1915.000000</td>\n",
       "      <td>1.000000</td>\n",
       "    </tr>\n",
       "  </tbody>\n",
       "</table>\n",
       "<p>8 rows × 179 columns</p>\n",
       "</div>"
      ],
      "text/plain": [
       "                 X1            X2            X3            X4            X5  \\\n",
       "count  11500.000000  11500.000000  11500.000000  11500.000000  11500.000000   \n",
       "mean     -11.581391    -10.911565    -10.187130     -9.143043     -8.009739   \n",
       "std      165.626284    166.059609    163.524317    161.269041    160.998007   \n",
       "min    -1839.000000  -1838.000000  -1835.000000  -1845.000000  -1791.000000   \n",
       "25%      -54.000000    -55.000000    -54.000000    -54.000000    -54.000000   \n",
       "50%       -8.000000     -8.000000     -7.000000     -8.000000     -8.000000   \n",
       "75%       34.000000     35.000000     36.000000     36.000000     35.000000   \n",
       "max     1726.000000   1713.000000   1697.000000   1612.000000   1518.000000   \n",
       "\n",
       "                 X6            X7           X8           X9           X10  \\\n",
       "count  11500.000000  11500.000000  11500.00000  11500.00000  11500.000000   \n",
       "mean      -7.003478     -6.502087     -6.68713     -6.55800     -6.168435   \n",
       "std      161.328725    161.467837    162.11912    162.03336    160.436352   \n",
       "min    -1757.000000  -1832.000000  -1778.00000  -1840.00000  -1867.000000   \n",
       "25%      -54.000000    -54.000000    -55.00000    -55.00000    -54.000000   \n",
       "50%       -8.000000     -8.000000     -8.00000     -7.00000     -7.000000   \n",
       "75%       36.000000     35.000000     36.00000     36.00000     35.250000   \n",
       "max     1816.000000   2047.000000   2047.00000   2047.00000   2047.000000   \n",
       "\n",
       "       ...          X170          X171          X172          X173  \\\n",
       "count  ...  11500.000000  11500.000000  11500.000000  11500.000000   \n",
       "mean   ...    -10.145739    -11.630348    -12.943478    -13.668870   \n",
       "std    ...    164.652883    166.149790    168.554058    168.556486   \n",
       "min    ...  -1867.000000  -1865.000000  -1642.000000  -1723.000000   \n",
       "25%    ...    -55.000000    -56.000000    -56.000000    -56.000000   \n",
       "50%    ...     -9.000000    -10.000000    -10.000000    -10.000000   \n",
       "75%    ...     34.000000     34.000000     33.000000     33.000000   \n",
       "max    ...   1777.000000   1472.000000   1319.000000   1436.000000   \n",
       "\n",
       "               X174          X175          X176          X177          X178  \\\n",
       "count  11500.000000  11500.000000  11500.000000  11500.000000  11500.000000   \n",
       "mean     -13.363304    -13.045043    -12.705130    -12.426000    -12.195652   \n",
       "std      167.257290    164.241019    162.895832    162.886311    164.852015   \n",
       "min    -1866.000000  -1863.000000  -1781.000000  -1727.000000  -1829.000000   \n",
       "25%      -55.000000    -56.000000    -55.000000    -55.000000    -55.000000   \n",
       "50%      -10.000000     -9.000000     -9.000000     -9.000000     -9.000000   \n",
       "75%       34.000000     34.000000     34.000000     34.000000     34.000000   \n",
       "max     1733.000000   1958.000000   2047.000000   2047.000000   1915.000000   \n",
       "\n",
       "       VARIAVEL_ALVO  \n",
       "count   11500.000000  \n",
       "mean        0.200000  \n",
       "std         0.400017  \n",
       "min         0.000000  \n",
       "25%         0.000000  \n",
       "50%         0.000000  \n",
       "75%         0.000000  \n",
       "max         1.000000  \n",
       "\n",
       "[8 rows x 179 columns]"
      ]
     },
     "execution_count": 7,
     "metadata": {},
     "output_type": "execute_result"
    }
   ],
   "source": [
    "#Resumo Estatístico\n",
    "df.describe()"
   ]
  },
  {
   "cell_type": "code",
   "execution_count": 8,
   "id": "1084a261",
   "metadata": {},
   "outputs": [
    {
     "name": "stdout",
     "output_type": "stream",
     "text": [
      "Número de Colunas: 179\n"
     ]
    }
   ],
   "source": [
    "print(\"Número de Colunas:\", len(df.columns))"
   ]
  },
  {
   "cell_type": "code",
   "execution_count": 9,
   "id": "4e51df6f",
   "metadata": {},
   "outputs": [
    {
     "data": {
      "text/plain": [
       "0"
      ]
     },
     "execution_count": 9,
     "metadata": {},
     "output_type": "execute_result"
    }
   ],
   "source": [
    "# Verificando dados Ausentes\n",
    "df.isna().sum().sum()"
   ]
  },
  {
   "cell_type": "code",
   "execution_count": 10,
   "id": "21685e30",
   "metadata": {},
   "outputs": [
    {
     "data": {
      "text/plain": [
       "0"
      ]
     },
     "execution_count": 10,
     "metadata": {},
     "output_type": "execute_result"
    }
   ],
   "source": [
    "# Verificando dados Nulos\n",
    "df.isnull().sum().sum()"
   ]
  },
  {
   "cell_type": "code",
   "execution_count": 11,
   "id": "f0df008d",
   "metadata": {},
   "outputs": [],
   "source": [
    "# Calculando a prevalência da classe positiva (nª de amostras positivas / nª de amostras)\n",
    "def calc_prevalencia(y_actual):\n",
    "    return sum(y_actual) / len(y_actual)"
   ]
  },
  {
   "cell_type": "code",
   "execution_count": 12,
   "id": "8b4e330b",
   "metadata": {},
   "outputs": [
    {
     "name": "stdout",
     "output_type": "stream",
     "text": [
      "Prevalência da classe positiva: 20.00\n"
     ]
    }
   ],
   "source": [
    "print(\"Prevalência da classe positiva: %.2f\"% calc_prevalencia(df['VARIAVEL_ALVO'].values * 100))"
   ]
  },
  {
   "cell_type": "markdown",
   "id": "3861747d",
   "metadata": {},
   "source": [
    "**Os dados estão desbalanceados (20% das máquinas precisaram de manutenção, enquanto 80% não precisaram).\n",
    "Precisaremos balancear os dados para treinamento do modelo de ML.**"
   ]
  },
  {
   "cell_type": "markdown",
   "id": "55c7037e",
   "metadata": {},
   "source": [
    "#### Limpeza dos dados"
   ]
  },
  {
   "cell_type": "code",
   "execution_count": 13,
   "id": "8216d3af",
   "metadata": {},
   "outputs": [],
   "source": [
    "# Preparando o dataset somente com os dados de interesse\n",
    "collist = df.columns.tolist()\n",
    "cols_input = collist[0:178]\n",
    "df_data = df[cols_input + ['VARIAVEL_ALVO']]"
   ]
  },
  {
   "cell_type": "code",
   "execution_count": 14,
   "id": "0353827b",
   "metadata": {},
   "outputs": [
    {
     "data": {
      "text/html": [
       "<div>\n",
       "<style scoped>\n",
       "    .dataframe tbody tr th:only-of-type {\n",
       "        vertical-align: middle;\n",
       "    }\n",
       "\n",
       "    .dataframe tbody tr th {\n",
       "        vertical-align: top;\n",
       "    }\n",
       "\n",
       "    .dataframe thead th {\n",
       "        text-align: right;\n",
       "    }\n",
       "</style>\n",
       "<table border=\"1\" class=\"dataframe\">\n",
       "  <thead>\n",
       "    <tr style=\"text-align: right;\">\n",
       "      <th></th>\n",
       "      <th>X1</th>\n",
       "      <th>X2</th>\n",
       "      <th>X3</th>\n",
       "      <th>X4</th>\n",
       "      <th>X5</th>\n",
       "      <th>X6</th>\n",
       "      <th>X7</th>\n",
       "      <th>X8</th>\n",
       "      <th>X9</th>\n",
       "      <th>X10</th>\n",
       "      <th>...</th>\n",
       "      <th>X170</th>\n",
       "      <th>X171</th>\n",
       "      <th>X172</th>\n",
       "      <th>X173</th>\n",
       "      <th>X174</th>\n",
       "      <th>X175</th>\n",
       "      <th>X176</th>\n",
       "      <th>X177</th>\n",
       "      <th>X178</th>\n",
       "      <th>VARIAVEL_ALVO</th>\n",
       "    </tr>\n",
       "  </thead>\n",
       "  <tbody>\n",
       "    <tr>\n",
       "      <th>0</th>\n",
       "      <td>135</td>\n",
       "      <td>190</td>\n",
       "      <td>229</td>\n",
       "      <td>223</td>\n",
       "      <td>192</td>\n",
       "      <td>125</td>\n",
       "      <td>55</td>\n",
       "      <td>-9</td>\n",
       "      <td>-33</td>\n",
       "      <td>-38</td>\n",
       "      <td>...</td>\n",
       "      <td>-17</td>\n",
       "      <td>-15</td>\n",
       "      <td>-31</td>\n",
       "      <td>-77</td>\n",
       "      <td>-103</td>\n",
       "      <td>-127</td>\n",
       "      <td>-116</td>\n",
       "      <td>-83</td>\n",
       "      <td>-51</td>\n",
       "      <td>0</td>\n",
       "    </tr>\n",
       "    <tr>\n",
       "      <th>1</th>\n",
       "      <td>386</td>\n",
       "      <td>382</td>\n",
       "      <td>356</td>\n",
       "      <td>331</td>\n",
       "      <td>320</td>\n",
       "      <td>315</td>\n",
       "      <td>307</td>\n",
       "      <td>272</td>\n",
       "      <td>244</td>\n",
       "      <td>232</td>\n",
       "      <td>...</td>\n",
       "      <td>164</td>\n",
       "      <td>150</td>\n",
       "      <td>146</td>\n",
       "      <td>152</td>\n",
       "      <td>157</td>\n",
       "      <td>156</td>\n",
       "      <td>154</td>\n",
       "      <td>143</td>\n",
       "      <td>129</td>\n",
       "      <td>1</td>\n",
       "    </tr>\n",
       "    <tr>\n",
       "      <th>2</th>\n",
       "      <td>-32</td>\n",
       "      <td>-39</td>\n",
       "      <td>-47</td>\n",
       "      <td>-37</td>\n",
       "      <td>-32</td>\n",
       "      <td>-36</td>\n",
       "      <td>-57</td>\n",
       "      <td>-73</td>\n",
       "      <td>-85</td>\n",
       "      <td>-94</td>\n",
       "      <td>...</td>\n",
       "      <td>57</td>\n",
       "      <td>64</td>\n",
       "      <td>48</td>\n",
       "      <td>19</td>\n",
       "      <td>-12</td>\n",
       "      <td>-30</td>\n",
       "      <td>-35</td>\n",
       "      <td>-35</td>\n",
       "      <td>-36</td>\n",
       "      <td>0</td>\n",
       "    </tr>\n",
       "    <tr>\n",
       "      <th>3</th>\n",
       "      <td>-105</td>\n",
       "      <td>-101</td>\n",
       "      <td>-96</td>\n",
       "      <td>-92</td>\n",
       "      <td>-89</td>\n",
       "      <td>-95</td>\n",
       "      <td>-102</td>\n",
       "      <td>-100</td>\n",
       "      <td>-87</td>\n",
       "      <td>-79</td>\n",
       "      <td>...</td>\n",
       "      <td>-82</td>\n",
       "      <td>-81</td>\n",
       "      <td>-80</td>\n",
       "      <td>-77</td>\n",
       "      <td>-85</td>\n",
       "      <td>-77</td>\n",
       "      <td>-72</td>\n",
       "      <td>-69</td>\n",
       "      <td>-65</td>\n",
       "      <td>0</td>\n",
       "    </tr>\n",
       "    <tr>\n",
       "      <th>4</th>\n",
       "      <td>-9</td>\n",
       "      <td>-65</td>\n",
       "      <td>-98</td>\n",
       "      <td>-102</td>\n",
       "      <td>-78</td>\n",
       "      <td>-48</td>\n",
       "      <td>-16</td>\n",
       "      <td>0</td>\n",
       "      <td>-21</td>\n",
       "      <td>-59</td>\n",
       "      <td>...</td>\n",
       "      <td>4</td>\n",
       "      <td>2</td>\n",
       "      <td>-12</td>\n",
       "      <td>-32</td>\n",
       "      <td>-41</td>\n",
       "      <td>-65</td>\n",
       "      <td>-83</td>\n",
       "      <td>-89</td>\n",
       "      <td>-73</td>\n",
       "      <td>0</td>\n",
       "    </tr>\n",
       "  </tbody>\n",
       "</table>\n",
       "<p>5 rows × 179 columns</p>\n",
       "</div>"
      ],
      "text/plain": [
       "    X1   X2   X3   X4   X5   X6   X7   X8   X9  X10  ...  X170  X171  X172  \\\n",
       "0  135  190  229  223  192  125   55   -9  -33  -38  ...   -17   -15   -31   \n",
       "1  386  382  356  331  320  315  307  272  244  232  ...   164   150   146   \n",
       "2  -32  -39  -47  -37  -32  -36  -57  -73  -85  -94  ...    57    64    48   \n",
       "3 -105 -101  -96  -92  -89  -95 -102 -100  -87  -79  ...   -82   -81   -80   \n",
       "4   -9  -65  -98 -102  -78  -48  -16    0  -21  -59  ...     4     2   -12   \n",
       "\n",
       "   X173  X174  X175  X176  X177  X178  VARIAVEL_ALVO  \n",
       "0   -77  -103  -127  -116   -83   -51              0  \n",
       "1   152   157   156   154   143   129              1  \n",
       "2    19   -12   -30   -35   -35   -36              0  \n",
       "3   -77   -85   -77   -72   -69   -65              0  \n",
       "4   -32   -41   -65   -83   -89   -73              0  \n",
       "\n",
       "[5 rows x 179 columns]"
      ]
     },
     "execution_count": 14,
     "metadata": {},
     "output_type": "execute_result"
    }
   ],
   "source": [
    "df.head()"
   ]
  },
  {
   "cell_type": "code",
   "execution_count": 15,
   "id": "59d1504a",
   "metadata": {},
   "outputs": [
    {
     "name": "stdout",
     "output_type": "stream",
     "text": [
      "set()\n"
     ]
    }
   ],
   "source": [
    "# Conferindo se temos colunas duplicadas\n",
    "dup_cols = set([x for x in cols_input if cols_input.count(x) > 1])\n",
    "print(dup_cols)\n",
    "assert len(dup_cols) == 0, \"Há colunas duplicadas\""
   ]
  },
  {
   "cell_type": "code",
   "execution_count": 16,
   "id": "b3e070d7",
   "metadata": {},
   "outputs": [
    {
     "name": "stdout",
     "output_type": "stream",
     "text": [
      "set()\n"
     ]
    }
   ],
   "source": [
    "# Conferindo se temos colunas duplicadas no dataset final\n",
    "cols_df_data = list(df_data.columns)\n",
    "dup_cols = set([x for x in cols_df_data if cols_df_data.count(x) > 1])\n",
    "print(dup_cols)\n",
    "assert len(dup_cols) == 0, \"Há colunas duplicadas\""
   ]
  },
  {
   "cell_type": "markdown",
   "id": "4e152925",
   "metadata": {},
   "source": [
    "Não temos colunas duplicadas"
   ]
  },
  {
   "cell_type": "markdown",
   "id": "6ed5a429",
   "metadata": {},
   "source": [
    "####  Divisão de dados em treino, teste e validação"
   ]
  },
  {
   "cell_type": "code",
   "execution_count": 17,
   "id": "b6f3fd49",
   "metadata": {},
   "outputs": [
    {
     "data": {
      "text/html": [
       "<div>\n",
       "<style scoped>\n",
       "    .dataframe tbody tr th:only-of-type {\n",
       "        vertical-align: middle;\n",
       "    }\n",
       "\n",
       "    .dataframe tbody tr th {\n",
       "        vertical-align: top;\n",
       "    }\n",
       "\n",
       "    .dataframe thead th {\n",
       "        text-align: right;\n",
       "    }\n",
       "</style>\n",
       "<table border=\"1\" class=\"dataframe\">\n",
       "  <thead>\n",
       "    <tr style=\"text-align: right;\">\n",
       "      <th></th>\n",
       "      <th>X1</th>\n",
       "      <th>X2</th>\n",
       "      <th>X3</th>\n",
       "      <th>X4</th>\n",
       "      <th>X5</th>\n",
       "      <th>X6</th>\n",
       "      <th>X7</th>\n",
       "      <th>X8</th>\n",
       "      <th>X9</th>\n",
       "      <th>X10</th>\n",
       "      <th>...</th>\n",
       "      <th>X170</th>\n",
       "      <th>X171</th>\n",
       "      <th>X172</th>\n",
       "      <th>X173</th>\n",
       "      <th>X174</th>\n",
       "      <th>X175</th>\n",
       "      <th>X176</th>\n",
       "      <th>X177</th>\n",
       "      <th>X178</th>\n",
       "      <th>VARIAVEL_ALVO</th>\n",
       "    </tr>\n",
       "  </thead>\n",
       "  <tbody>\n",
       "    <tr>\n",
       "      <th>0</th>\n",
       "      <td>135</td>\n",
       "      <td>190</td>\n",
       "      <td>229</td>\n",
       "      <td>223</td>\n",
       "      <td>192</td>\n",
       "      <td>125</td>\n",
       "      <td>55</td>\n",
       "      <td>-9</td>\n",
       "      <td>-33</td>\n",
       "      <td>-38</td>\n",
       "      <td>...</td>\n",
       "      <td>-17</td>\n",
       "      <td>-15</td>\n",
       "      <td>-31</td>\n",
       "      <td>-77</td>\n",
       "      <td>-103</td>\n",
       "      <td>-127</td>\n",
       "      <td>-116</td>\n",
       "      <td>-83</td>\n",
       "      <td>-51</td>\n",
       "      <td>0</td>\n",
       "    </tr>\n",
       "    <tr>\n",
       "      <th>1</th>\n",
       "      <td>386</td>\n",
       "      <td>382</td>\n",
       "      <td>356</td>\n",
       "      <td>331</td>\n",
       "      <td>320</td>\n",
       "      <td>315</td>\n",
       "      <td>307</td>\n",
       "      <td>272</td>\n",
       "      <td>244</td>\n",
       "      <td>232</td>\n",
       "      <td>...</td>\n",
       "      <td>164</td>\n",
       "      <td>150</td>\n",
       "      <td>146</td>\n",
       "      <td>152</td>\n",
       "      <td>157</td>\n",
       "      <td>156</td>\n",
       "      <td>154</td>\n",
       "      <td>143</td>\n",
       "      <td>129</td>\n",
       "      <td>1</td>\n",
       "    </tr>\n",
       "    <tr>\n",
       "      <th>2</th>\n",
       "      <td>-32</td>\n",
       "      <td>-39</td>\n",
       "      <td>-47</td>\n",
       "      <td>-37</td>\n",
       "      <td>-32</td>\n",
       "      <td>-36</td>\n",
       "      <td>-57</td>\n",
       "      <td>-73</td>\n",
       "      <td>-85</td>\n",
       "      <td>-94</td>\n",
       "      <td>...</td>\n",
       "      <td>57</td>\n",
       "      <td>64</td>\n",
       "      <td>48</td>\n",
       "      <td>19</td>\n",
       "      <td>-12</td>\n",
       "      <td>-30</td>\n",
       "      <td>-35</td>\n",
       "      <td>-35</td>\n",
       "      <td>-36</td>\n",
       "      <td>0</td>\n",
       "    </tr>\n",
       "    <tr>\n",
       "      <th>3</th>\n",
       "      <td>-105</td>\n",
       "      <td>-101</td>\n",
       "      <td>-96</td>\n",
       "      <td>-92</td>\n",
       "      <td>-89</td>\n",
       "      <td>-95</td>\n",
       "      <td>-102</td>\n",
       "      <td>-100</td>\n",
       "      <td>-87</td>\n",
       "      <td>-79</td>\n",
       "      <td>...</td>\n",
       "      <td>-82</td>\n",
       "      <td>-81</td>\n",
       "      <td>-80</td>\n",
       "      <td>-77</td>\n",
       "      <td>-85</td>\n",
       "      <td>-77</td>\n",
       "      <td>-72</td>\n",
       "      <td>-69</td>\n",
       "      <td>-65</td>\n",
       "      <td>0</td>\n",
       "    </tr>\n",
       "    <tr>\n",
       "      <th>4</th>\n",
       "      <td>-9</td>\n",
       "      <td>-65</td>\n",
       "      <td>-98</td>\n",
       "      <td>-102</td>\n",
       "      <td>-78</td>\n",
       "      <td>-48</td>\n",
       "      <td>-16</td>\n",
       "      <td>0</td>\n",
       "      <td>-21</td>\n",
       "      <td>-59</td>\n",
       "      <td>...</td>\n",
       "      <td>4</td>\n",
       "      <td>2</td>\n",
       "      <td>-12</td>\n",
       "      <td>-32</td>\n",
       "      <td>-41</td>\n",
       "      <td>-65</td>\n",
       "      <td>-83</td>\n",
       "      <td>-89</td>\n",
       "      <td>-73</td>\n",
       "      <td>0</td>\n",
       "    </tr>\n",
       "  </tbody>\n",
       "</table>\n",
       "<p>5 rows × 179 columns</p>\n",
       "</div>"
      ],
      "text/plain": [
       "    X1   X2   X3   X4   X5   X6   X7   X8   X9  X10  ...  X170  X171  X172  \\\n",
       "0  135  190  229  223  192  125   55   -9  -33  -38  ...   -17   -15   -31   \n",
       "1  386  382  356  331  320  315  307  272  244  232  ...   164   150   146   \n",
       "2  -32  -39  -47  -37  -32  -36  -57  -73  -85  -94  ...    57    64    48   \n",
       "3 -105 -101  -96  -92  -89  -95 -102 -100  -87  -79  ...   -82   -81   -80   \n",
       "4   -9  -65  -98 -102  -78  -48  -16    0  -21  -59  ...     4     2   -12   \n",
       "\n",
       "   X173  X174  X175  X176  X177  X178  VARIAVEL_ALVO  \n",
       "0   -77  -103  -127  -116   -83   -51              0  \n",
       "1   152   157   156   154   143   129              1  \n",
       "2    19   -12   -30   -35   -35   -36              0  \n",
       "3   -77   -85   -77   -72   -69   -65              0  \n",
       "4   -32   -41   -65   -83   -89   -73              0  \n",
       "\n",
       "[5 rows x 179 columns]"
      ]
     },
     "execution_count": 17,
     "metadata": {},
     "output_type": "execute_result"
    }
   ],
   "source": [
    "df_data.head()"
   ]
  },
  {
   "cell_type": "code",
   "execution_count": 18,
   "id": "d53908cf",
   "metadata": {},
   "outputs": [],
   "source": [
    "# Gerando amostras aleatórias dos dados\n",
    "df_data = df_data.sample(n = len(df_data))"
   ]
  },
  {
   "cell_type": "code",
   "execution_count": 19,
   "id": "1931afd2",
   "metadata": {},
   "outputs": [],
   "source": [
    "# Ajustando os índices do dataset\n",
    "df_data = df_data.reset_index(drop=True)"
   ]
  },
  {
   "cell_type": "code",
   "execution_count": 20,
   "id": "d0e7d0e8",
   "metadata": {},
   "outputs": [
    {
     "name": "stdout",
     "output_type": "stream",
     "text": [
      "Tamanho da divisão de validação / teste: 0.3\n"
     ]
    }
   ],
   "source": [
    "# Gerando um índice para a divisão\n",
    "df_valid_teste = df_data.sample(frac = 0.3)\n",
    "print(\"Tamanho da divisão de validação / teste: %.1f\"% (len(df_valid_teste) / len(df_data)))"
   ]
  },
  {
   "cell_type": "code",
   "execution_count": 21,
   "id": "987b64e1",
   "metadata": {},
   "outputs": [],
   "source": [
    "# Fazendo a divisão 70/15/15\n",
    "\n",
    "# Teste\n",
    "df_teste = df_valid_teste.sample(frac=0.5)\n",
    "\n",
    "# Validação\n",
    "df_valid = df_valid_teste.drop(df_teste.index)\n",
    "\n",
    "# Treino\n",
    "df_treino = df_data.drop(df_valid_teste.index)"
   ]
  },
  {
   "cell_type": "code",
   "execution_count": 22,
   "id": "83005a7c",
   "metadata": {},
   "outputs": [
    {
     "name": "stdout",
     "output_type": "stream",
     "text": [
      "Teste(n = 1725): 0.198\n",
      "Validação(n = 1725): 0.214\n",
      "Treino(n = 8050): 0.197\n"
     ]
    }
   ],
   "source": [
    "# Verifique a prevalência de cada subconjunto\n",
    "print(\"Teste(n = %d): %.3f\" % (len(df_teste), calc_prevalencia(df_teste.VARIAVEL_ALVO.values)))\n",
    "print(\"Validação(n = %d): %.3f\" % (len(df_valid), calc_prevalencia(df_valid.VARIAVEL_ALVO.values)))\n",
    "print(\"Treino(n = %d): %.3f\" % (len(df_treino), calc_prevalencia(df_treino.VARIAVEL_ALVO.values)))"
   ]
  },
  {
   "cell_type": "code",
   "execution_count": 23,
   "id": "4fa8f964",
   "metadata": {},
   "outputs": [
    {
     "name": "stdout",
     "output_type": "stream",
     "text": [
      "Todas as amostras (n = 11500)\n"
     ]
    }
   ],
   "source": [
    "print('Todas as amostras (n = %d)'%len(df_data))\n",
    "assert len(df_data) == (len(df_teste) + len(df_valid) + len(df_treino)), 'algo saiu errado'"
   ]
  },
  {
   "cell_type": "markdown",
   "id": "4d9d7218",
   "metadata": {},
   "source": [
    "#### Balanceamento de Classe"
   ]
  },
  {
   "cell_type": "code",
   "execution_count": 24,
   "id": "e7bad2d2",
   "metadata": {},
   "outputs": [],
   "source": [
    "# Cria um índice\n",
    "rows_pos = df_treino.VARIAVEL_ALVO == 1"
   ]
  },
  {
   "cell_type": "code",
   "execution_count": 25,
   "id": "cca84dbb",
   "metadata": {},
   "outputs": [],
   "source": [
    "# Define valores positivos e negativos do índice\n",
    "df_train_pos = df_treino.loc[rows_pos]\n",
    "df_train_neg = df_treino.loc[~rows_pos]"
   ]
  },
  {
   "cell_type": "code",
   "execution_count": 26,
   "id": "e633aa49",
   "metadata": {},
   "outputs": [],
   "source": [
    "# Valor mínimo\n",
    "n = np.min([len(df_train_pos), len(df_train_neg)])"
   ]
  },
  {
   "cell_type": "code",
   "execution_count": 27,
   "id": "76323dfa",
   "metadata": {},
   "outputs": [],
   "source": [
    "# Obtém valores aleatórios para o dataset de treino\n",
    "df_treino_final = pd.concat([df_train_pos.sample(n = n, random_state = 64), \n",
    "                             df_train_neg.sample(n = n, random_state = 64)], \n",
    "                             axis = 0, \n",
    "                             ignore_index = True)"
   ]
  },
  {
   "cell_type": "code",
   "execution_count": 28,
   "id": "c2c848b8",
   "metadata": {},
   "outputs": [],
   "source": [
    "# Amostragem\n",
    "df_treino_final = df_treino_final.sample(n = len(df_treino_final), random_state = 64).reset_index(drop = True)"
   ]
  },
  {
   "cell_type": "code",
   "execution_count": 29,
   "id": "92e8e281",
   "metadata": {},
   "outputs": [
    {
     "name": "stdout",
     "output_type": "stream",
     "text": [
      "Balanceamento em Treino(n = 3178): 0.500\n"
     ]
    }
   ],
   "source": [
    "print('Balanceamento em Treino(n = %d): %.3f'%(len(df_treino_final), \n",
    "                                               calc_prevalencia(df_treino_final.VARIAVEL_ALVO.values)))"
   ]
  },
  {
   "cell_type": "markdown",
   "id": "347d13db",
   "metadata": {},
   "source": [
    "**Principais Técnicas de Balanceamento de Classe**\n",
    "\n",
    "**Undersampling**: Esta técnica envolve reduzir o número de exemplos da classe majoritária para igualar ao número de exemplos da classe minoritária. Ou seja, você diminui o tamanho do conjunto de dados ao remover aleatoriamente registros da classe que tem mais exemplos. Isso pode ajudar a equilibrar o conjunto de dados, mas também pode resultar na perda de informações importantes, pois muitos dados da classe majoritária são descartados.\n",
    "\n",
    "**Oversampling**: Por outro lado, o oversampling envolve aumentar o número de exemplos na classe minoritária para que se iguale ao número de exemplos na classe majoritária. Isso geralmente é feito replicando os registros da classe minoritária ou gerando dados sintéticos semelhantes. Essa abordagem mantém todas as informações da classe majoritária e aumenta o conjunto de dados, mas pode levar a um problema de overfitting, onde o modelo aprende demais os detalhes específicos da classe minoritária replicada ou pode gerar um dataset tendencioso."
   ]
  },
  {
   "cell_type": "code",
   "execution_count": 30,
   "id": "b0f606b1",
   "metadata": {},
   "outputs": [],
   "source": [
    "# Salvamos todos os datasets em disco no formato csv.\n",
    "df_treino.to_csv('dados_treino.csv', index = False)\n",
    "df_treino_final.to_csv('dados_treino_final.csv', index = False)\n",
    "df_valid.to_csv('dados_valid.csv', index = False)\n",
    "df_teste.to_csv('dados_teste.csv', index = False)"
   ]
  },
  {
   "cell_type": "code",
   "execution_count": 31,
   "id": "20579604",
   "metadata": {},
   "outputs": [],
   "source": [
    "# Salvando os dados de entrada\n",
    "pickle.dump(cols_input, open('cols_input.sav', 'wb'))"
   ]
  },
  {
   "cell_type": "markdown",
   "id": "7e3ce85e",
   "metadata": {},
   "source": [
    "Criando as Matrizes X e Y."
   ]
  },
  {
   "cell_type": "code",
   "execution_count": 32,
   "id": "e9416147",
   "metadata": {},
   "outputs": [],
   "source": [
    "# X\n",
    "X_treino = df_treino_final[cols_input].values\n",
    "X_valid = df_valid[cols_input].values"
   ]
  },
  {
   "cell_type": "code",
   "execution_count": 33,
   "id": "418e57a6",
   "metadata": {},
   "outputs": [],
   "source": [
    "# Y\n",
    "y_treino = df_treino_final['VARIAVEL_ALVO'].values\n",
    "y_valid = df_valid['VARIAVEL_ALVO'].values"
   ]
  },
  {
   "cell_type": "code",
   "execution_count": 34,
   "id": "fda3ba41",
   "metadata": {},
   "outputs": [
    {
     "data": {
      "text/plain": [
       "array([[ -48,  -89,  -97, ..., -100,  -92, -103],\n",
       "       [  76,   55,   39, ...,  -56,  -44,  -44],\n",
       "       [  92,   79,   63, ..., -131, -136, -140],\n",
       "       ...,\n",
       "       [-168, -155, -122, ...,   19,   45,   59],\n",
       "       [-274, -232, -192, ...,   64,   40,   38],\n",
       "       [   7,  -17,  -34, ...,  -82,  -70,  -45]], dtype=int64)"
      ]
     },
     "execution_count": 34,
     "metadata": {},
     "output_type": "execute_result"
    }
   ],
   "source": [
    "X_treino"
   ]
  },
  {
   "cell_type": "markdown",
   "id": "029e0596",
   "metadata": {},
   "source": [
    "#### Padronização"
   ]
  },
  {
   "cell_type": "code",
   "execution_count": 35,
   "id": "b33aa0c5",
   "metadata": {},
   "outputs": [],
   "source": [
    "# Cria o objeto\n",
    "scaler = StandardScaler()"
   ]
  },
  {
   "cell_type": "code",
   "execution_count": 36,
   "id": "9b7caae9",
   "metadata": {},
   "outputs": [
    {
     "data": {
      "text/plain": [
       "StandardScaler()"
      ]
     },
     "execution_count": 36,
     "metadata": {},
     "output_type": "execute_result"
    }
   ],
   "source": [
    "# Faz o fit\n",
    "scaler.fit(X_treino)"
   ]
  },
  {
   "cell_type": "code",
   "execution_count": 37,
   "id": "fbfd69b4",
   "metadata": {},
   "outputs": [],
   "source": [
    "# Salva o objeto em disco e carrega para usamos adiante\n",
    "scalerfile = 'scaler.sav'"
   ]
  },
  {
   "cell_type": "code",
   "execution_count": 38,
   "id": "a062ce3f",
   "metadata": {},
   "outputs": [],
   "source": [
    "pickle.dump(scaler, open(scalerfile, 'wb'))\n",
    "scaler = pickle.load(open(scalerfile, 'rb'))"
   ]
  },
  {
   "cell_type": "code",
   "execution_count": 39,
   "id": "29f7d6e3",
   "metadata": {},
   "outputs": [],
   "source": [
    "# Aplica a padronização em nossas matrizes de dados\n",
    "X_treino_tf = scaler.transform(X_treino)\n",
    "X_valid_tf = scaler.transform(X_valid)"
   ]
  },
  {
   "cell_type": "code",
   "execution_count": 40,
   "id": "e74fd043",
   "metadata": {},
   "outputs": [
    {
     "data": {
      "text/plain": [
       "array([[-0.13831388, -0.30392169, -0.34265731, ..., -0.35280003,\n",
       "        -0.3015929 , -0.32748153],\n",
       "       [ 0.36609229,  0.27601181,  0.21457806, ..., -0.16899768,\n",
       "        -0.10470676, -0.09037606],\n",
       "       [ 0.43117695,  0.37266739,  0.31291371, ..., -0.48229713,\n",
       "        -0.48207185, -0.4761748 ],\n",
       "       ...,\n",
       "       [-0.62644887, -0.56972454, -0.44509028, ...,  0.14430177,\n",
       "         0.26035295,  0.32355385],\n",
       "       [-1.05763479, -0.87982787, -0.7319026 , ...,  0.33228144,\n",
       "         0.23984398,  0.23916037],\n",
       "       [ 0.08541466, -0.01395494, -0.08452622, ..., -0.27760816,\n",
       "        -0.21135342, -0.09439479]])"
      ]
     },
     "execution_count": 40,
     "metadata": {},
     "output_type": "execute_result"
    }
   ],
   "source": [
    "X_treino_tf"
   ]
  },
  {
   "cell_type": "markdown",
   "id": "1d21518b",
   "metadata": {},
   "source": [
    "#### Modelagem Preditiva"
   ]
  },
  {
   "cell_type": "code",
   "execution_count": 41,
   "id": "e5b9b039",
   "metadata": {},
   "outputs": [],
   "source": [
    "# Função para calcular a especificidade\n",
    "def calc_specificity(y_actual, y_pred, thresh):\n",
    "    return sum((y_pred < thresh) & (y_actual == 0)) / sum(y_actual ==0)"
   ]
  },
  {
   "cell_type": "code",
   "execution_count": 42,
   "id": "d8e8dbd3",
   "metadata": {},
   "outputs": [],
   "source": [
    "# Função para gerar relatório de métricas\n",
    "def print_report(y_actual, y_pred, thresh):\n",
    "    \n",
    "    auc = roc_auc_score(y_actual, y_pred)\n",
    "    \n",
    "    accuracy = accuracy_score(y_actual, (y_pred > thresh))\n",
    "    \n",
    "    recall = recall_score(y_actual, (y_pred > thresh))\n",
    "    \n",
    "    precision = precision_score(y_actual, (y_pred > thresh))\n",
    "    \n",
    "    specificity = calc_specificity(y_actual, y_pred, thresh)\n",
    "    \n",
    "    print('AUC:%.3f'%auc)\n",
    "    print('Acurácia:%.3f'%accuracy)\n",
    "    print('Recall:%.3f'%recall)\n",
    "    print('Precisão:%.3f'%precision)\n",
    "    print('Especificidade:%.3f'%specificity)\n",
    "    print(' ')\n",
    "    \n",
    "    return auc, accuracy, recall, precision, specificity "
   ]
  },
  {
   "cell_type": "markdown",
   "id": "72268c39",
   "metadata": {},
   "source": [
    "As métricas acima são comumente utilizadas para avaliar o desempenho de modelos de classificação em machine learning. Cada uma delas fornece informações diferentes sobre a qualidade das previsões do modelo. Vamos descrevê-las:\n",
    "\n",
    "AUC (Área sob a Curva ROC): A métrica AUC refere-se à área sob a curva ROC (Receiver Operating Characteristic). A curva ROC é um gráfico que mostra o desempenho de um modelo de classificação em todos os limiares de classificação. Esta curva plota a taxa de verdadeiros positivos (sensibilidade) contra a taxa de falsos positivos (1 - especificidade) para diferentes limiares. AUC varia de 0 a 1, onde um modelo com AUC de 1 é um classificador perfeito, e um modelo com AUC de 0.5 não tem capacidade de classificação melhor do que o acaso.\n",
    "\n",
    "Accuracy (Acurácia): A acurácia é a fração de previsões corretas (tanto verdadeiros positivos quanto verdadeiros negativos) entre o total de casos examinados. É calculada como (verdadeiros positivos + verdadeiros negativos) / (total de casos). Enquanto a acurácia pode fornecer uma medida rápida da eficácia geral do modelo, ela pode ser enganosa em datasets desbalanceados, onde uma classe é muito mais frequente do que a outra.\n",
    "\n",
    "Recall (Sensibilidade ou Taxa de Verdadeiros Positivos): O recall é a proporção de positivos reais que foram corretamente identificados pelo modelo, calculado como (verdadeiros positivos) / (verdadeiros positivos + falsos negativos). É uma medida importante quando o custo de não detectar um verdadeiro positivo é alto.\n",
    "\n",
    "Precision (Precisão): A precisão é a proporção de previsões positivas que são realmente positivas, calculada como (verdadeiros positivos) / (verdadeiros positivos + falsos positivos). Alta precisão indica uma baixa taxa de falsos positivos. É particularmente importante em situações onde os falsos positivos têm um alto custo.\n",
    "\n",
    "Specificity (Especificidade): A especificidade é a proporção de negativos reais que foram corretamente identificados como tal, calculado como (verdadeiros negativos) / (verdadeiros negativos + falsos positivos). Não é diretamente calculada pelo scikit-learn, mas pode ser derivada da matriz de confusão ou calculada por uma função personalizada, como a dsa_calc_specificity mencionada. A especificidade é crucial em contextos onde é importante minimizar os falsos positivos."
   ]
  },
  {
   "cell_type": "markdown",
   "id": "6d3cccde",
   "metadata": {},
   "source": [
    "Como equilibramos nossos dados de treinamento, vamos definir nosso limite em 0,5 para rotular uma amostra prevista como positiva."
   ]
  },
  {
   "cell_type": "code",
   "execution_count": 43,
   "id": "f523cf19",
   "metadata": {},
   "outputs": [],
   "source": [
    "thresh = 0.5"
   ]
  },
  {
   "cell_type": "code",
   "execution_count": 44,
   "id": "b374c3c5",
   "metadata": {},
   "outputs": [
    {
     "name": "stdout",
     "output_type": "stream",
     "text": [
      "\n",
      "Regressão Logística\n",
      "\n",
      "Treinamento:\n",
      "\n",
      "AUC:0.616\n",
      "Acurácia:0.636\n",
      "Recall:0.519\n",
      "Precisão:0.677\n",
      "Especificidade:0.753\n",
      " \n",
      "Validação:\n",
      "\n",
      "AUC:0.523\n",
      "Acurácia:0.680\n",
      "Recall:0.430\n",
      "Precisão:0.318\n",
      "Especificidade:0.748\n",
      " \n"
     ]
    }
   ],
   "source": [
    "# Construção do modelo\n",
    "\n",
    "# Cria o classificador (objeto)\n",
    "lr = LogisticRegression(max_iter = 500, random_state = 142)\n",
    "\n",
    "# Treina e cria o modelo\n",
    "modelo_v1 = lr.fit(X_treino_tf, y_treino)\n",
    "\n",
    "# Previsões \n",
    "y_train_preds = modelo_v1.predict_proba(X_treino_tf)[:,1]\n",
    "y_valid_preds = modelo_v1.predict_proba(X_valid_tf)[:,1]\n",
    "\n",
    "print('\\nRegressão Logística\\n')\n",
    "\n",
    "print('Treinamento:\\n')\n",
    "v1_train_auc, v1_train_acc, v1_train_rec, v1_train_prec, v1_train_spec = print_report(y_treino, \n",
    "                                                                                          y_train_preds, \n",
    "                                                                                          thresh)\n",
    "\n",
    "print('Validação:\\n')\n",
    "v1_valid_auc, v1_valid_acc, v1_valid_rec, v1_valid_prec, v1_valid_spec = print_report(y_valid, \n",
    "                                                                                          y_valid_preds, \n",
    "                                                                                          thresh)"
   ]
  },
  {
   "cell_type": "code",
   "execution_count": 45,
   "id": "13086c84",
   "metadata": {},
   "outputs": [
    {
     "name": "stdout",
     "output_type": "stream",
     "text": [
      "\n",
      "Naive Bayes\n",
      "\n",
      "Treinamento:\n",
      "\n",
      "AUC:0.984\n",
      "Acurácia:0.935\n",
      "Recall:0.898\n",
      "Precisão:0.971\n",
      "Especificidade:0.973\n",
      " \n",
      "Validação:\n",
      "\n",
      "AUC:0.982\n",
      "Acurácia:0.958\n",
      "Recall:0.919\n",
      "Precisão:0.888\n",
      "Especificidade:0.968\n",
      " \n"
     ]
    }
   ],
   "source": [
    "# Construção do modelo\n",
    "\n",
    "# Cria o classificador (objeto)\n",
    "nb = GaussianNB()\n",
    "\n",
    "# Treina e cria o modelo\n",
    "modelo_v2 = nb.fit(X_treino_tf, y_treino)\n",
    "\n",
    "# Previsões\n",
    "y_train_preds = modelo_v2.predict_proba(X_treino_tf)[:,1]\n",
    "y_valid_preds = modelo_v2.predict_proba(X_valid_tf)[:,1]\n",
    "\n",
    "print('\\nNaive Bayes\\n')\n",
    "\n",
    "print('Treinamento:\\n')\n",
    "v2_train_auc, v2_train_acc, v2_train_rec, v2_train_prec, v2_train_spec = print_report(y_treino, \n",
    "                                                                                          y_train_preds, \n",
    "                                                                                          thresh)\n",
    "\n",
    "print('Validação:\\n')\n",
    "v2_valid_auc, v2_valid_acc, v2_valid_rec, v2_valid_prec, v2_valid_spec = print_report(y_valid, \n",
    "                                                                                          y_valid_preds, \n",
    "                                                                                          thresh)"
   ]
  },
  {
   "cell_type": "code",
   "execution_count": 46,
   "id": "7f3b10b5",
   "metadata": {},
   "outputs": [
    {
     "name": "stdout",
     "output_type": "stream",
     "text": [
      "\n",
      "Xtreme Gradient Boosting Classifier\n",
      "\n",
      "Treinamento:\n",
      "\n",
      "AUC:1.000\n",
      "Acurácia:1.000\n",
      "Recall:1.000\n",
      "Precisão:1.000\n",
      "Especificidade:1.000\n",
      " \n",
      "Validação:\n",
      "\n",
      "AUC:0.992\n",
      "Acurácia:0.959\n",
      "Recall:0.951\n",
      "Precisão:0.871\n",
      "Especificidade:0.962\n",
      " \n"
     ]
    }
   ],
   "source": [
    "# Construção do modelo\n",
    "\n",
    "# Cria o classificador\n",
    "xgbc = XGBClassifier()\n",
    "\n",
    "# Treina e cria o modelo\n",
    "modelo_v3 = xgbc.fit(X_treino_tf, y_treino)\n",
    "\n",
    "# Previsões\n",
    "y_train_preds = modelo_v3.predict_proba(X_treino_tf)[:,1]\n",
    "y_valid_preds = modelo_v3.predict_proba(X_valid_tf)[:,1]\n",
    "\n",
    "print('\\nXtreme Gradient Boosting Classifier\\n')\n",
    "\n",
    "print('Treinamento:\\n')\n",
    "v3_train_auc, v3_train_acc, v3_train_rec, v3_train_prec, v3_train_spec = print_report(y_treino, \n",
    "                                                                                          y_train_preds, \n",
    "                                                                                          thresh)\n",
    "\n",
    "print('Validação:\\n')\n",
    "v3_valid_auc, v3_valid_acc, v3_valid_rec, v3_valid_prec, v3_valid_spec = print_report(y_valid, \n",
    "                                                                                          y_valid_preds, \n",
    "                                                                                          thresh)"
   ]
  },
  {
   "cell_type": "markdown",
   "id": "db12fb5c",
   "metadata": {},
   "source": [
    "#### Validação Cruzada"
   ]
  },
  {
   "cell_type": "code",
   "execution_count": 47,
   "id": "3d631904",
   "metadata": {},
   "outputs": [
    {
     "name": "stdout",
     "output_type": "stream",
     "text": [
      "Validação Cruzada com 5 divisões\n",
      "Score AUC em Cada Divisão: [0.99256359 0.99227681 0.9927317  0.98913755 0.99443486]\n",
      "Média de Score AUC: 0.9922288992232045\n"
     ]
    }
   ],
   "source": [
    "# Cria o classificador\n",
    "xgbc = XGBClassifier()\n",
    "\n",
    "# Configura a validação cruzada\n",
    "# Por exemplo, usando 5 divisões e a métrica de área sob a curva ROC (AUC)\n",
    "n_splits = 5\n",
    "score = 'roc_auc'\n",
    "\n",
    "# Realiza a validação cruzada\n",
    "cv_scores = cross_val_score(xgbc, X_treino_tf, y_treino, cv = n_splits, scoring = score)\n",
    "\n",
    "# Exibe os resultados\n",
    "print(f\"Validação Cruzada com {n_splits} divisões\")\n",
    "print(f\"Score AUC em Cada Divisão: {cv_scores}\")\n",
    "print(f\"Média de Score AUC: {np.mean(cv_scores)}\")"
   ]
  },
  {
   "cell_type": "markdown",
   "id": "b2ec963f",
   "metadata": {},
   "source": [
    "#### Otimização de Hiperparâmetros com GridSearchCV"
   ]
  },
  {
   "cell_type": "code",
   "execution_count": 49,
   "id": "ca3f0bbc",
   "metadata": {},
   "outputs": [],
   "source": [
    "from sklearn.model_selection import GridSearchCV\n",
    "from xgboost import XGBClassifier"
   ]
  },
  {
   "cell_type": "code",
   "execution_count": 51,
   "id": "cc80184c",
   "metadata": {},
   "outputs": [
    {
     "name": "stdout",
     "output_type": "stream",
     "text": [
      "\n",
      "Xtreme Gradient Boosting Classifier - Otimizado\n",
      "\n",
      "Melhores hiperparâmetros: {'learning_rate': 0.2, 'max_depth': 4, 'n_estimators': 200, 'subsample': 0.9}\n",
      "\n",
      "Treinamento:\n",
      "\n",
      "AUC:1.000\n",
      "Acurácia:1.000\n",
      "Recall:1.000\n",
      "Precisão:1.000\n",
      "Especificidade:1.000\n",
      " \n",
      "Validação:\n",
      "\n",
      "AUC:0.993\n",
      "Acurácia:0.965\n",
      "Recall:0.957\n",
      "Precisão:0.889\n",
      "Especificidade:0.968\n",
      " \n",
      "Wall time: 4min 29s\n"
     ]
    }
   ],
   "source": [
    "%%time\n",
    "\n",
    "# Define o classificador\n",
    "xgbc = XGBClassifier()\n",
    "\n",
    "# Define o espaço de hiperparâmetros para a otimização\n",
    "param_grid = {\n",
    "    'max_depth': [3, 4, 5],\n",
    "    'learning_rate': [0.01, 0.1, 0.2],\n",
    "    'n_estimators': [100, 200, 300],\n",
    "    'subsample': [0.7, 0.8, 0.9]\n",
    "}\n",
    "\n",
    "# Configura o GridSearchCV\n",
    "grid_search = GridSearchCV(xgbc, param_grid, cv = 5, scoring = 'roc_auc', n_jobs = -1)\n",
    "\n",
    "# Realiza a busca pelos melhores hiperparâmetros\n",
    "grid_search.fit(X_treino_tf, y_treino)\n",
    "\n",
    "# Melhores hiperparâmetros encontrados\n",
    "best_params = grid_search.best_params_\n",
    "\n",
    "# Treina o modelo com os melhores hiperparâmetros\n",
    "modelo_v4 = grid_search.best_estimator_\n",
    "\n",
    "# Previsões com o modelo otimizado\n",
    "y_train_preds_optimized = modelo_v4.predict_proba(X_treino_tf)[:,1]\n",
    "y_valid_preds_optimized = modelo_v4.predict_proba(X_valid_tf)[:,1]\n",
    "\n",
    "# Avaliação do modelo otimizado\n",
    "print('\\nXtreme Gradient Boosting Classifier - Otimizado\\n')\n",
    "print('Melhores hiperparâmetros:', best_params)\n",
    "\n",
    "print('\\nTreinamento:\\n')\n",
    "v4_train_auc, v4_train_acc, v4_train_rec, v4_train_prec, v4_train_spec = print_report(y_treino, \n",
    "                                                                                          y_train_preds_optimized, \n",
    "                                                                                          thresh)\n",
    "\n",
    "print('Validação:\\n')\n",
    "v4_valid_auc, v4_valid_acc, v4_valid_rec, v4_valid_prec, v4_valid_spec = print_report(y_valid, \n",
    "                                                                                          y_valid_preds_optimized, \n",
    "                                                                                          thresh)"
   ]
  },
  {
   "cell_type": "markdown",
   "id": "0098e54c",
   "metadata": {},
   "source": [
    "#### Seleção do Melhor Modelo de Machine Learning"
   ]
  },
  {
   "cell_type": "markdown",
   "id": "73fadf8a",
   "metadata": {},
   "source": [
    "Vamos criar um dataframe com todos os resultados e plotar usando o seaborn."
   ]
  },
  {
   "cell_type": "code",
   "execution_count": 52,
   "id": "ccdbf054",
   "metadata": {},
   "outputs": [],
   "source": [
    "# Cria um dataframe com as métricas calculadas\n",
    "df_results = pd.DataFrame({'classificador':['RL','RL','NB','NB','XGB','XGB','XGB_O','XGB_O'],\n",
    "                           'data_set':['treino','validação'] * 4,\n",
    "                           'auc':[v1_train_auc,\n",
    "                                  v1_valid_auc,\n",
    "                                  v2_train_auc,\n",
    "                                  v2_valid_auc,\n",
    "                                  v3_train_auc,\n",
    "                                  v3_valid_auc,\n",
    "                                  v4_train_auc,\n",
    "                                  v4_valid_auc],\n",
    "                           'accuracy':[v1_train_acc,\n",
    "                                       v1_valid_acc,\n",
    "                                       v2_train_acc,\n",
    "                                       v2_valid_acc,\n",
    "                                       v3_train_acc,\n",
    "                                       v3_valid_acc,\n",
    "                                       v4_train_acc,\n",
    "                                       v4_valid_acc],\n",
    "                           'recall':[v1_train_rec,\n",
    "                                     v1_valid_rec,\n",
    "                                     v2_train_rec,\n",
    "                                     v2_valid_rec,\n",
    "                                     v3_train_rec,\n",
    "                                     v3_valid_rec,\n",
    "                                     v4_train_rec,\n",
    "                                     v4_valid_rec],\n",
    "                           'precision':[v1_train_prec,\n",
    "                                        v1_valid_prec,\n",
    "                                        v2_train_prec,\n",
    "                                        v2_valid_prec,\n",
    "                                        v3_train_prec,\n",
    "                                        v3_valid_prec,\n",
    "                                        v4_train_prec,\n",
    "                                        v4_valid_prec],\n",
    "                           'specificity':[v1_train_spec,\n",
    "                                          v1_valid_spec,\n",
    "                                          v2_train_spec,\n",
    "                                          v2_valid_spec,\n",
    "                                          v3_train_spec,\n",
    "                                          v3_valid_spec,\n",
    "                                          v4_train_spec,\n",
    "                                          v4_valid_spec]})"
   ]
  },
  {
   "cell_type": "markdown",
   "id": "b597eb23",
   "metadata": {},
   "source": [
    "A métrica de desempenho escolhida será a pontuação AUC (AUC Score) do conjunto de validação. É a pontuação ideal para comparar modelos de algoritmos diferentes."
   ]
  },
  {
   "cell_type": "code",
   "execution_count": 53,
   "id": "aef12b69",
   "metadata": {},
   "outputs": [
    {
     "data": {
      "image/png": "[encoded data removed]",
      "text/plain": [
       "<Figure size 1600x800 with 1 Axes>"
      ]
     },
     "metadata": {},
     "output_type": "display_data"
    }
   ],
   "source": [
    "# Construção do Plot\n",
    "sns.set_style(\"whitegrid\")\n",
    "plt.figure(figsize = (16, 8))\n",
    "\n",
    "# Gráfico de barras\n",
    "ax = sns.barplot(x = 'classificador', y = 'auc', hue = 'data_set', data = df_results)\n",
    "ax.set_xlabel('Classificador', fontsize = 15)\n",
    "ax.set_ylabel('AUC', fontsize = 15)\n",
    "ax.tick_params(labelsize = 15)\n",
    "\n",
    "# Legenda\n",
    "plt.legend(bbox_to_anchor = (1.05, 1), loc = 2, borderaxespad = 0., fontsize = 15)\n",
    "plt.show();"
   ]
  },
  {
   "cell_type": "code",
   "execution_count": 54,
   "id": "03cd6767",
   "metadata": {},
   "outputs": [
    {
     "data": {
      "text/html": [
       "<div>\n",
       "<style scoped>\n",
       "    .dataframe tbody tr th:only-of-type {\n",
       "        vertical-align: middle;\n",
       "    }\n",
       "\n",
       "    .dataframe tbody tr th {\n",
       "        vertical-align: top;\n",
       "    }\n",
       "\n",
       "    .dataframe thead th {\n",
       "        text-align: right;\n",
       "    }\n",
       "</style>\n",
       "<table border=\"1\" class=\"dataframe\">\n",
       "  <thead>\n",
       "    <tr style=\"text-align: right;\">\n",
       "      <th></th>\n",
       "      <th>classificador</th>\n",
       "      <th>data_set</th>\n",
       "      <th>auc</th>\n",
       "      <th>accuracy</th>\n",
       "      <th>recall</th>\n",
       "      <th>precision</th>\n",
       "      <th>specificity</th>\n",
       "    </tr>\n",
       "  </thead>\n",
       "  <tbody>\n",
       "    <tr>\n",
       "      <th>0</th>\n",
       "      <td>RL</td>\n",
       "      <td>treino</td>\n",
       "      <td>0.615665</td>\n",
       "      <td>0.635935</td>\n",
       "      <td>0.519194</td>\n",
       "      <td>0.677340</td>\n",
       "      <td>0.752675</td>\n",
       "    </tr>\n",
       "    <tr>\n",
       "      <th>1</th>\n",
       "      <td>RL</td>\n",
       "      <td>validação</td>\n",
       "      <td>0.523291</td>\n",
       "      <td>0.680000</td>\n",
       "      <td>0.429730</td>\n",
       "      <td>0.318000</td>\n",
       "      <td>0.748339</td>\n",
       "    </tr>\n",
       "    <tr>\n",
       "      <th>2</th>\n",
       "      <td>NB</td>\n",
       "      <td>treino</td>\n",
       "      <td>0.984062</td>\n",
       "      <td>0.935494</td>\n",
       "      <td>0.898049</td>\n",
       "      <td>0.970748</td>\n",
       "      <td>0.972939</td>\n",
       "    </tr>\n",
       "    <tr>\n",
       "      <th>3</th>\n",
       "      <td>NB</td>\n",
       "      <td>validação</td>\n",
       "      <td>0.981912</td>\n",
       "      <td>0.957681</td>\n",
       "      <td>0.918919</td>\n",
       "      <td>0.887728</td>\n",
       "      <td>0.968266</td>\n",
       "    </tr>\n",
       "    <tr>\n",
       "      <th>4</th>\n",
       "      <td>XGB</td>\n",
       "      <td>treino</td>\n",
       "      <td>1.000000</td>\n",
       "      <td>1.000000</td>\n",
       "      <td>1.000000</td>\n",
       "      <td>1.000000</td>\n",
       "      <td>1.000000</td>\n",
       "    </tr>\n",
       "    <tr>\n",
       "      <th>5</th>\n",
       "      <td>XGB</td>\n",
       "      <td>validação</td>\n",
       "      <td>0.992209</td>\n",
       "      <td>0.959420</td>\n",
       "      <td>0.951351</td>\n",
       "      <td>0.871287</td>\n",
       "      <td>0.961624</td>\n",
       "    </tr>\n",
       "    <tr>\n",
       "      <th>6</th>\n",
       "      <td>XGB_O</td>\n",
       "      <td>treino</td>\n",
       "      <td>1.000000</td>\n",
       "      <td>1.000000</td>\n",
       "      <td>1.000000</td>\n",
       "      <td>1.000000</td>\n",
       "      <td>1.000000</td>\n",
       "    </tr>\n",
       "    <tr>\n",
       "      <th>7</th>\n",
       "      <td>XGB_O</td>\n",
       "      <td>validação</td>\n",
       "      <td>0.992501</td>\n",
       "      <td>0.965217</td>\n",
       "      <td>0.956757</td>\n",
       "      <td>0.889447</td>\n",
       "      <td>0.967528</td>\n",
       "    </tr>\n",
       "  </tbody>\n",
       "</table>\n",
       "</div>"
      ],
      "text/plain": [
       "  classificador   data_set       auc  accuracy    recall  precision  \\\n",
       "0            RL     treino  0.615665  0.635935  0.519194   0.677340   \n",
       "1            RL  validação  0.523291  0.680000  0.429730   0.318000   \n",
       "2            NB     treino  0.984062  0.935494  0.898049   0.970748   \n",
       "3            NB  validação  0.981912  0.957681  0.918919   0.887728   \n",
       "4           XGB     treino  1.000000  1.000000  1.000000   1.000000   \n",
       "5           XGB  validação  0.992209  0.959420  0.951351   0.871287   \n",
       "6         XGB_O     treino  1.000000  1.000000  1.000000   1.000000   \n",
       "7         XGB_O  validação  0.992501  0.965217  0.956757   0.889447   \n",
       "\n",
       "   specificity  \n",
       "0     0.752675  \n",
       "1     0.748339  \n",
       "2     0.972939  \n",
       "3     0.968266  \n",
       "4     1.000000  \n",
       "5     0.961624  \n",
       "6     1.000000  \n",
       "7     0.967528  "
      ]
     },
     "execution_count": 54,
     "metadata": {},
     "output_type": "execute_result"
    }
   ],
   "source": [
    "df_results"
   ]
  },
  {
   "cell_type": "code",
   "execution_count": 55,
   "id": "3c385852",
   "metadata": {
    "scrolled": true
   },
   "outputs": [
    {
     "data": {
      "text/html": [
       "<div>\n",
       "<style scoped>\n",
       "    .dataframe tbody tr th:only-of-type {\n",
       "        vertical-align: middle;\n",
       "    }\n",
       "\n",
       "    .dataframe tbody tr th {\n",
       "        vertical-align: top;\n",
       "    }\n",
       "\n",
       "    .dataframe thead th {\n",
       "        text-align: right;\n",
       "    }\n",
       "</style>\n",
       "<table border=\"1\" class=\"dataframe\">\n",
       "  <thead>\n",
       "    <tr style=\"text-align: right;\">\n",
       "      <th></th>\n",
       "      <th>classificador</th>\n",
       "      <th>data_set</th>\n",
       "      <th>auc</th>\n",
       "      <th>accuracy</th>\n",
       "      <th>recall</th>\n",
       "      <th>precision</th>\n",
       "      <th>specificity</th>\n",
       "    </tr>\n",
       "  </thead>\n",
       "  <tbody>\n",
       "    <tr>\n",
       "      <th>7</th>\n",
       "      <td>XGB_O</td>\n",
       "      <td>validação</td>\n",
       "      <td>0.992501</td>\n",
       "      <td>0.965217</td>\n",
       "      <td>0.956757</td>\n",
       "      <td>0.889447</td>\n",
       "      <td>0.967528</td>\n",
       "    </tr>\n",
       "    <tr>\n",
       "      <th>5</th>\n",
       "      <td>XGB</td>\n",
       "      <td>validação</td>\n",
       "      <td>0.992209</td>\n",
       "      <td>0.959420</td>\n",
       "      <td>0.951351</td>\n",
       "      <td>0.871287</td>\n",
       "      <td>0.961624</td>\n",
       "    </tr>\n",
       "    <tr>\n",
       "      <th>3</th>\n",
       "      <td>NB</td>\n",
       "      <td>validação</td>\n",
       "      <td>0.981912</td>\n",
       "      <td>0.957681</td>\n",
       "      <td>0.918919</td>\n",
       "      <td>0.887728</td>\n",
       "      <td>0.968266</td>\n",
       "    </tr>\n",
       "    <tr>\n",
       "      <th>1</th>\n",
       "      <td>RL</td>\n",
       "      <td>validação</td>\n",
       "      <td>0.523291</td>\n",
       "      <td>0.680000</td>\n",
       "      <td>0.429730</td>\n",
       "      <td>0.318000</td>\n",
       "      <td>0.748339</td>\n",
       "    </tr>\n",
       "  </tbody>\n",
       "</table>\n",
       "</div>"
      ],
      "text/plain": [
       "  classificador   data_set       auc  accuracy    recall  precision  \\\n",
       "7         XGB_O  validação  0.992501  0.965217  0.956757   0.889447   \n",
       "5           XGB  validação  0.992209  0.959420  0.951351   0.871287   \n",
       "3            NB  validação  0.981912  0.957681  0.918919   0.887728   \n",
       "1            RL  validação  0.523291  0.680000  0.429730   0.318000   \n",
       "\n",
       "   specificity  \n",
       "7     0.967528  \n",
       "5     0.961624  \n",
       "3     0.968266  \n",
       "1     0.748339  "
      ]
     },
     "execution_count": 55,
     "metadata": {},
     "output_type": "execute_result"
    }
   ],
   "source": [
    "# Tabela de comparação dos modelos somente com métricas em validação e ordenado por AUC\n",
    "df_results[df_results['data_set'] == 'validação'].sort_values(by = 'auc', ascending = False)"
   ]
  },
  {
   "cell_type": "markdown",
   "id": "ab1f8012",
   "metadata": {},
   "source": [
    "Considerando a métrica AUC, nosso melhor modelo é o Classificador XGBoost Versão Otimizada (versão 4). Essa será nossa escolha."
   ]
  },
  {
   "cell_type": "markdown",
   "id": "3810138c",
   "metadata": {},
   "source": [
    "#### Gravando o Melhor Modelo"
   ]
  },
  {
   "cell_type": "code",
   "execution_count": 56,
   "id": "e84f24d2",
   "metadata": {},
   "outputs": [],
   "source": [
    "# Grava o modelo em disco\n",
    "pickle.dump(modelo_v4, open('melhor_modelo_dsa.pkl', 'wb'), protocol = 4)"
   ]
  },
  {
   "cell_type": "markdown",
   "id": "535343bf",
   "metadata": {},
   "source": [
    "### Avaliação e Interpretação das Métricas"
   ]
  },
  {
   "cell_type": "code",
   "execution_count": 57,
   "id": "dc17e6df",
   "metadata": {},
   "outputs": [],
   "source": [
    "# Carrega o modelo, as colunas e o scaler\n",
    "melhor_modelo = pickle.load(open('melhor_modelo_dsa.pkl','rb'))\n",
    "cols_input = pickle.load(open('cols_input.sav','rb'))\n",
    "scaler = pickle.load(open('scaler.sav', 'rb'))\n",
    "\n",
    "# Carrega os dados\n",
    "df_train = pd.read_csv('dados_treino.csv')\n",
    "df_valid= pd.read_csv('dados_valid.csv')\n",
    "df_test= pd.read_csv('dados_teste.csv')\n",
    "\n",
    "# Cria matrizes x e y\n",
    "\n",
    "# X\n",
    "X_train = df_train[cols_input].values\n",
    "X_valid = df_valid[cols_input].values\n",
    "X_test = df_test[cols_input].values\n",
    "\n",
    "# Y\n",
    "y_train = df_train['VARIAVEL_ALVO'].values\n",
    "y_valid = df_valid['VARIAVEL_ALVO'].values\n",
    "y_test = df_test['VARIAVEL_ALVO'].values\n",
    "\n",
    "# Aplica a transformação nos dados\n",
    "X_train_tf = scaler.transform(X_train)\n",
    "X_valid_tf = scaler.transform(X_valid)\n",
    "X_test_tf = scaler.transform(X_test)"
   ]
  },
  {
   "cell_type": "markdown",
   "id": "bd61bc13",
   "metadata": {},
   "source": [
    "Calculando as previsões no formato de probabilidades."
   ]
  },
  {
   "cell_type": "code",
   "execution_count": 58,
   "id": "c042fcfc",
   "metadata": {},
   "outputs": [],
   "source": [
    "# Calcula as probabilidades\n",
    "y_train_preds = melhor_modelo.predict_proba(X_train_tf)[:,1]\n",
    "y_valid_preds = melhor_modelo.predict_proba(X_valid_tf)[:,1]\n",
    "y_test_preds = melhor_modelo.predict_proba(X_test_tf)[:,1]"
   ]
  },
  {
   "cell_type": "markdown",
   "id": "0269b347",
   "metadata": {},
   "source": [
    "Avaliação de desempenho."
   ]
  },
  {
   "cell_type": "code",
   "execution_count": 60,
   "id": "3368c8c5",
   "metadata": {},
   "outputs": [
    {
     "name": "stdout",
     "output_type": "stream",
     "text": [
      "\n",
      "Treinamento:\n",
      "\n",
      "AUC:0.999\n",
      "Acurácia:0.981\n",
      "Recall:1.000\n",
      "Precisão:0.911\n",
      "Especificidade:0.976\n",
      " \n",
      "\n",
      "Validação:\n",
      "\n",
      "AUC:0.993\n",
      "Acurácia:0.965\n",
      "Recall:0.957\n",
      "Precisão:0.889\n",
      "Especificidade:0.968\n",
      " \n",
      "\n",
      "Teste:\n",
      "\n",
      "AUC:0.996\n",
      "Acurácia:0.969\n",
      "Recall:0.959\n",
      "Precisão:0.893\n",
      "Especificidade:0.972\n",
      " \n"
     ]
    }
   ],
   "source": [
    "thresh = 0.5\n",
    "\n",
    "print('\\nTreinamento:\\n')\n",
    "train_auc, train_accuracy, train_recall, train_precision, train_specificity = print_report(y_train,\n",
    "                                                                                               y_train_preds, \n",
    "                                                                                               thresh)\n",
    "\n",
    "print('\\nValidação:\\n')\n",
    "valid_auc, valid_accuracy, valid_recall, valid_precision, valid_specificity = print_report(y_valid,\n",
    "                                                                                               y_valid_preds, \n",
    "                                                                                               thresh)\n",
    "\n",
    "print('\\nTeste:\\n')\n",
    "test_auc, test_accuracy, test_recall, test_precision, test_specificity = print_report(y_test,\n",
    "                                                                                          y_test_preds, \n",
    "                                                                                          thresh)"
   ]
  },
  {
   "cell_type": "code",
   "execution_count": 61,
   "id": "4e2b1a20",
   "metadata": {},
   "outputs": [
    {
     "data": {
      "image/png": "[encoded data removed]",
      "text/plain": [
       "<Figure size 1600x1000 with 1 Axes>"
      ]
     },
     "metadata": {},
     "output_type": "display_data"
    }
   ],
   "source": [
    "# Calcula a curva ROC nos dados de treino\n",
    "fpr_train, tpr_train, thresholds_train = roc_curve(y_train, y_train_preds)\n",
    "auc_train = roc_auc_score(y_train, y_train_preds)\n",
    "\n",
    "# Calcula a curva ROC nos dados de validação\n",
    "fpr_valid, tpr_valid, thresholds_valid = roc_curve(y_valid, y_valid_preds)\n",
    "auc_valid = roc_auc_score(y_valid, y_valid_preds)\n",
    "\n",
    "# Calcula a curva ROC nos dados de teste\n",
    "fpr_test, tpr_test, thresholds_test = roc_curve(y_test, y_test_preds)\n",
    "auc_test = roc_auc_score(y_test, y_test_preds)\n",
    "\n",
    "# Plot\n",
    "plt.figure(figsize=(16,10))\n",
    "plt.plot(fpr_train, tpr_train, 'r-', label = 'AUC em Treino: %.3f' % auc_train)\n",
    "plt.plot(fpr_valid, tpr_valid, 'b-', label = 'AUC em Validação: %.3f' % auc_valid)\n",
    "plt.plot(fpr_test, tpr_test, 'g-', label = 'AUC em Teste: %.3f' % auc_test)\n",
    "plt.plot([0,1],[0,1],'k--')\n",
    "plt.xlabel('Taxa de Falso Positivo')\n",
    "plt.ylabel('Taxa de Verdadeiro Positivo')\n",
    "plt.legend()\n",
    "plt.show()"
   ]
  },
  {
   "cell_type": "markdown",
   "id": "06cc7c22",
   "metadata": {},
   "source": [
    "## Deploy do Modelo e Uso com Novos Dados"
   ]
  },
  {
   "cell_type": "code",
   "execution_count": 62,
   "id": "19a74e29",
   "metadata": {},
   "outputs": [],
   "source": [
    "# Carregando novos dados\n",
    "nova_maquina = pd.read_csv('novos_dados.csv')"
   ]
  },
  {
   "cell_type": "code",
   "execution_count": 63,
   "id": "2ce44472",
   "metadata": {},
   "outputs": [
    {
     "data": {
      "text/html": [
       "<div>\n",
       "<style scoped>\n",
       "    .dataframe tbody tr th:only-of-type {\n",
       "        vertical-align: middle;\n",
       "    }\n",
       "\n",
       "    .dataframe tbody tr th {\n",
       "        vertical-align: top;\n",
       "    }\n",
       "\n",
       "    .dataframe thead th {\n",
       "        text-align: right;\n",
       "    }\n",
       "</style>\n",
       "<table border=\"1\" class=\"dataframe\">\n",
       "  <thead>\n",
       "    <tr style=\"text-align: right;\">\n",
       "      <th></th>\n",
       "      <th>X1</th>\n",
       "      <th>X2</th>\n",
       "      <th>X3</th>\n",
       "      <th>X4</th>\n",
       "      <th>X5</th>\n",
       "      <th>X6</th>\n",
       "      <th>X7</th>\n",
       "      <th>X8</th>\n",
       "      <th>X9</th>\n",
       "      <th>X10</th>\n",
       "      <th>...</th>\n",
       "      <th>X169</th>\n",
       "      <th>X170</th>\n",
       "      <th>X171</th>\n",
       "      <th>X172</th>\n",
       "      <th>X173</th>\n",
       "      <th>X174</th>\n",
       "      <th>X175</th>\n",
       "      <th>X176</th>\n",
       "      <th>X177</th>\n",
       "      <th>X178</th>\n",
       "    </tr>\n",
       "  </thead>\n",
       "  <tbody>\n",
       "    <tr>\n",
       "      <th>0</th>\n",
       "      <td>51</td>\n",
       "      <td>43</td>\n",
       "      <td>34</td>\n",
       "      <td>21</td>\n",
       "      <td>13</td>\n",
       "      <td>12</td>\n",
       "      <td>6</td>\n",
       "      <td>4</td>\n",
       "      <td>1</td>\n",
       "      <td>-4</td>\n",
       "      <td>...</td>\n",
       "      <td>-41</td>\n",
       "      <td>-16</td>\n",
       "      <td>2</td>\n",
       "      <td>22</td>\n",
       "      <td>33</td>\n",
       "      <td>45</td>\n",
       "      <td>56</td>\n",
       "      <td>67</td>\n",
       "      <td>69</td>\n",
       "      <td>63</td>\n",
       "    </tr>\n",
       "  </tbody>\n",
       "</table>\n",
       "<p>1 rows × 178 columns</p>\n",
       "</div>"
      ],
      "text/plain": [
       "   X1  X2  X3  X4  X5  X6  X7  X8  X9  X10  ...  X169  X170  X171  X172  X173  \\\n",
       "0  51  43  34  21  13  12   6   4   1   -4  ...   -41   -16     2    22    33   \n",
       "\n",
       "   X174  X175  X176  X177  X178  \n",
       "0    45    56    67    69    63  \n",
       "\n",
       "[1 rows x 178 columns]"
      ]
     },
     "execution_count": 63,
     "metadata": {},
     "output_type": "execute_result"
    }
   ],
   "source": [
    "nova_maquina.head()"
   ]
  },
  {
   "cell_type": "code",
   "execution_count": 64,
   "id": "1efc0e62",
   "metadata": {},
   "outputs": [],
   "source": [
    "# Aplicamos a padronização aos novos dados de entrada\n",
    "nova_maquina_scaled = scaler.transform(nova_maquina)"
   ]
  },
  {
   "cell_type": "code",
   "execution_count": 65,
   "id": "1873dbb8",
   "metadata": {},
   "outputs": [
    {
     "data": {
      "text/plain": [
       "array([[ 0.2643975 ,  0.22768402,  0.19409147,  0.13912449,  0.09401746,\n",
       "         0.07303781,  0.03262827,  0.01993729,  0.00440827, -0.02114019,\n",
       "        -0.06079783, -0.09054082, -0.10365275, -0.09978818, -0.08085062,\n",
       "        -0.07125621, -0.07514578, -0.0809762 , -0.05821494, -0.04119012,\n",
       "        -0.05083176, -0.02327228,  0.00483344,  0.01695165,  0.01114461,\n",
       "         0.01348768,  0.03804561,  0.06194646,  0.08748316,  0.08013237,\n",
       "         0.05846748,  0.0056553 , -0.00779099, -0.01909984,  0.01151312,\n",
       "         0.0436982 ,  0.08611011,  0.12848219,  0.14700814,  0.18284997,\n",
       "         0.19245727,  0.2064681 ,  0.19310842,  0.2068156 ,  0.2006546 ,\n",
       "         0.19294124,  0.18169719,  0.14348007,  0.08619387,  0.04018069,\n",
       "         0.02271856, -0.03883413, -0.09863939, -0.14930531, -0.18194282,\n",
       "        -0.2040169 , -0.2094893 , -0.20821445, -0.19982783, -0.15939905,\n",
       "        -0.1165332 , -0.073006  , -0.03371114, -0.05114636, -0.03987165,\n",
       "        -0.03013024, -0.00930705,  0.04365018,  0.06795829,  0.06021664,\n",
       "         0.0651107 ,  0.07499133,  0.05442667,  0.05107443,  0.05160793,\n",
       "         0.06843926,  0.06032889,  0.04744429,  0.03052054,  0.00406378,\n",
       "         0.00577763,  0.01551374,  0.02118341, -0.01708574, -0.03729935,\n",
       "        -0.07915599, -0.12691267, -0.18250274, -0.23586951, -0.26270311,\n",
       "        -0.30836716, -0.31976259, -0.34298767, -0.33557208, -0.32101236,\n",
       "        -0.25341326, -0.22331369, -0.21088198, -0.21276539, -0.228912  ,\n",
       "        -0.24557094, -0.25105797, -0.23825064, -0.20207234, -0.17607856,\n",
       "        -0.1184521 , -0.06820266, -0.00622051,  0.07991389,  0.15066166,\n",
       "         0.19334784,  0.22790441,  0.2447058 ,  0.21658745,  0.15540373,\n",
       "         0.08385981,  0.02727824, -0.03720261, -0.09720035, -0.13157205,\n",
       "        -0.16421862, -0.1721708 , -0.15388509, -0.14944034, -0.13985888,\n",
       "        -0.12777767, -0.11384103, -0.09174749, -0.09080589, -0.00973589,\n",
       "         0.05168164,  0.13200036,  0.1765505 ,  0.2139869 ,  0.20821471,\n",
       "         0.16988395,  0.13742639,  0.10899042,  0.10600665,  0.07973898,\n",
       "         0.07764489,  0.08229566,  0.0734892 ,  0.07772854,  0.07489488,\n",
       "         0.05931864,  0.072902  ,  0.10572005,  0.13387964,  0.13005503,\n",
       "         0.1524782 ,  0.13723507,  0.11931025,  0.07976842,  0.04160389,\n",
       "         0.00283332, -0.02027914, -0.05929818, -0.10658382, -0.17494583,\n",
       "        -0.19855033, -0.19539727, -0.22460406, -0.2390308 , -0.27182594,\n",
       "        -0.26239942, -0.24181979, -0.18338217, -0.1167703 , -0.01954579,\n",
       "         0.06076136,  0.14673117,  0.19244816,  0.23894477,  0.29068218,\n",
       "         0.34481342,  0.35879602,  0.33962879]])"
      ]
     },
     "execution_count": 65,
     "metadata": {},
     "output_type": "execute_result"
    }
   ],
   "source": [
    "nova_maquina_scaled"
   ]
  },
  {
   "cell_type": "code",
   "execution_count": 66,
   "id": "fbb0b412",
   "metadata": {},
   "outputs": [
    {
     "data": {
      "text/plain": [
       "array([0])"
      ]
     },
     "execution_count": 66,
     "metadata": {},
     "output_type": "execute_result"
    }
   ],
   "source": [
    "# Previsão de classe\n",
    "melhor_modelo.predict(nova_maquina_scaled)"
   ]
  },
  {
   "cell_type": "markdown",
   "id": "a2969909",
   "metadata": {},
   "source": [
    "### Conclusão do Projeto"
   ]
  },
  {
   "cell_type": "markdown",
   "id": "c256bdf8",
   "metadata": {},
   "source": [
    "Entregar o resultado de um projeto de Machine Learning envolve várias etapas que garantem que o modelo desenvolvido seja compreendido, avaliado e utilizado de maneira eficaz pelos stakeholders. Aqui estão os principais passos a serem considerados:\n",
    "\n",
    "Documentação Completa: Inclua detalhes técnicos sobre como o modelo foi construído, os dados utilizados, a preparação dos dados, o algoritmo escolhido, os parâmetros ajustados e os resultados dos testes. Documente também qualquer pré-processamento de dados e escolhas de engenharia de atributos.\n",
    "\n",
    "Avaliação do Modelo: Apresente uma avaliação detalhada do desempenho do modelo utilizando métricas relevantes (como precisão, recall, AUC-ROC, etc.). Use visualizações, como curvas ROC ou matrizes de confusão, para ilustrar os resultados de forma clara.\n",
    "\n",
    "Relatório de Insights e Interpretações: Forneça insights sobre o que o modelo mostra, incluindo quais variáveis são mais importantes para as previsões e como as variáveis influenciam essas previsões. Ferramentas de interpretabilidade de modelo, como SHAP ou LIME, podem ser úteis aqui.\n",
    "\n",
    "Demonstração Prática: Se possível, crie uma demonstração ou protótipo que mostre como o modelo funciona em um ambiente operacional. Isso pode ser uma aplicação web, um notebook Jupyter interativo ou até mesmo uma API que os stakeholders possam consultar para testar o modelo.\n",
    "\n",
    "Manual do Usuário e Treinamento: Forneça um manual do usuário ou guias que expliquem como interagir com o modelo, incluindo como inserir dados, interpretar resultados e aplicar os resultados para tomada de decisão. Além disso, ofereça sessões de treinamento para os usuários finais que irão operar ou interagir regularmente com o modelo.\n",
    "\n",
    "Plano de Implantação: Descreva como o modelo será implementado no ambiente de produção. Isso inclui detalhes técnicos sobre integração com sistemas existentes, requisitos de hardware/software e estratégias para atualizações e manutenção.\n",
    "\n",
    "Plano de Monitoramento e Manutenção: Estabeleça um plano para monitorar o desempenho do modelo ao longo do tempo e identificar quando ele precisa ser recalibrado ou treinado com novos dados para manter sua precisão e relevância.\n",
    "\n",
    "Feedback e Iteração: Inclua um mecanismo de feedback para coletar opiniões dos usuários sobre o desempenho do modelo e áreas para melhorias. Use essas informações para iterar sobre o modelo e melhorar continuamente sua precisão e usabilidade.\n",
    "\n",
    "Projeto concluído, projeto entregue, cliente feliz, partimos para o próximo projeto!"
   ]
  },
  {
   "cell_type": "code",
   "execution_count": 67,
   "id": "ffbc7aed",
   "metadata": {},
   "outputs": [
    {
     "name": "stdout",
     "output_type": "stream",
     "text": [
      "Author: Marcelo Medeiros | Cientista de Dados\n",
      "\n"
     ]
    }
   ],
   "source": [
    "%watermark -a \"Marcelo Medeiros | Cientista de Dados\""
   ]
  },
  {
   "cell_type": "code",
   "execution_count": 68,
   "id": "b1cc0a23",
   "metadata": {},
   "outputs": [
    {
     "name": "stdout",
     "output_type": "stream",
     "text": [
      "Python implementation: CPython\n",
      "Python version       : 3.9.13\n",
      "IPython version      : 7.31.1\n",
      "\n",
      "Compiler    : MSC v.1916 64 bit (AMD64)\n",
      "OS          : Windows\n",
      "Release     : 10\n",
      "Machine     : AMD64\n",
      "Processor   : Intel64 Family 6 Model 140 Stepping 1, GenuineIntel\n",
      "CPU cores   : 8\n",
      "Architecture: 64bit\n",
      "\n"
     ]
    }
   ],
   "source": [
    "%watermark -v -m"
   ]
  },
  {
   "cell_type": "code",
   "execution_count": 69,
   "id": "c3ca5b40",
   "metadata": {},
   "outputs": [
    {
     "name": "stdout",
     "output_type": "stream",
     "text": [
      "numpy     : 1.26.4\n",
      "pandas    : 2.2.2\n",
      "matplotlib: 3.7.2\n",
      "xgboost   : 2.0.3\n",
      "seaborn   : 0.12.2\n",
      "sklearn   : 1.0.2\n",
      "\n"
     ]
    }
   ],
   "source": [
    "%watermark --iversions"
   ]
  },
  {
   "cell_type": "markdown",
   "id": "ca434981",
   "metadata": {},
   "source": [
    "## FIM"
   ]
  }
 ],
 "metadata": {
  "kernelspec": {
   "display_name": "Python 3 (ipykernel)",
   "language": "python",
   "name": "python3"
  },
  "language_info": {
   "codemirror_mode": {
    "name": "ipython",
    "version": 3
   },
   "file_extension": ".py",
   "mimetype": "text/x-python",
   "name": "python",
   "nbconvert_exporter": "python",
   "pygments_lexer": "ipython3",
   "version": "3.9.13"
  }
 },
 "nbformat": 4,
 "nbformat_minor": 5
}
